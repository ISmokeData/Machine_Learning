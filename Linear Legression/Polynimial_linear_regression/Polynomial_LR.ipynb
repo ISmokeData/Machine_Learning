{
 "cells": [
  {
   "cell_type": "markdown",
   "metadata": {},
   "source": [
    "### <span style = 'color:purple'>**Polynomial Linear Regression** </span>"
   ]
  },
  {
   "cell_type": "code",
   "execution_count": 2,
   "metadata": {},
   "outputs": [],
   "source": [
    "import numpy as np\n",
    "import matplotlib.pyplot as plt\n",
    "from sklearn.model_selection import train_test_split\n",
    "from sklearn.linear_model import LinearRegression\n",
    "from sklearn.preprocessing import PolynomialFeatures, StandardScaler\n",
    "from sklearn.metrics import r2_score\n",
    "from sklearn.pipeline import Pipeline\n"
   ]
  },
  {
   "cell_type": "code",
   "execution_count": 3,
   "metadata": {},
   "outputs": [],
   "source": [
    "X = 6 * np.random.rand(200, 1) - 3\n",
    "y = 0.8 * X**2 + 0.9 * X + 2 + np.random.randn(200, 1)\n",
    "\n",
    "# y = 0.8x ^2 + 0.9x +2\n"
   ]
  },
  {
   "cell_type": "code",
   "execution_count": 4,
   "metadata": {},
   "outputs": [
    {
     "name": "stdout",
     "output_type": "stream",
     "text": [
      "(200, 1)\n"
     ]
    }
   ],
   "source": [
    "print(y.shape)\n"
   ]
  },
  {
   "cell_type": "code",
   "execution_count": 5,
   "metadata": {},
   "outputs": [
    {
     "data": {
      "image/png": "[encoded data removed]",
      "text/plain": [
       "<Figure size 864x432 with 1 Axes>"
      ]
     },
     "metadata": {
      "needs_background": "light"
     },
     "output_type": "display_data"
    }
   ],
   "source": [
    "plt.figure(figsize=(12, 6))\n",
    "plt.plot(X, y, 'b.')\n",
    "plt.xlabel(\"X\")\n",
    "plt.ylabel(\"y\")\n",
    "plt.show()\n"
   ]
  },
  {
   "cell_type": "code",
   "execution_count": 6,
   "metadata": {},
   "outputs": [],
   "source": [
    "# Train test split\n",
    "X_train, X_test, y_train, y_test = train_test_split(\n",
    "    X, y, test_size=0.2, random_state=2)\n"
   ]
  },
  {
   "cell_type": "code",
   "execution_count": 7,
   "metadata": {},
   "outputs": [],
   "source": [
    "# Applying Linear regression\n",
    "lr = LinearRegression()\n"
   ]
  },
  {
   "cell_type": "code",
   "execution_count": 8,
   "metadata": {},
   "outputs": [
    {
     "data": {
      "text/plain": [
       "LinearRegression()"
      ]
     },
     "execution_count": 8,
     "metadata": {},
     "output_type": "execute_result"
    }
   ],
   "source": [
    "lr.fit(X_train, y_train)\n"
   ]
  },
  {
   "cell_type": "code",
   "execution_count": 9,
   "metadata": {},
   "outputs": [
    {
     "data": {
      "text/plain": [
       "0.28207883444133475"
      ]
     },
     "execution_count": 9,
     "metadata": {},
     "output_type": "execute_result"
    }
   ],
   "source": [
    "y_pred = lr.predict(X_test)\n",
    "r2_score(y_test, y_pred)\n"
   ]
  },
  {
   "cell_type": "code",
   "execution_count": 10,
   "metadata": {},
   "outputs": [
    {
     "data": {
      "image/png": "[encoded data removed]",
      "text/plain": [
       "<Figure size 720x432 with 1 Axes>"
      ]
     },
     "metadata": {
      "needs_background": "light"
     },
     "output_type": "display_data"
    }
   ],
   "source": [
    "plt.figure(figsize=(10, 6))\n",
    "plt.plot(X_train, lr.predict(X_train), color='r')\n",
    "plt.plot(X, y, \"b.\")\n",
    "plt.xlabel(\"X\")\n",
    "plt.ylabel(\"Y\")\n",
    "plt.show()\n"
   ]
  },
  {
   "cell_type": "code",
   "execution_count": 11,
   "metadata": {},
   "outputs": [],
   "source": [
    "# Applying Polynomail Linear Regression\n",
    "#  degree 2\n",
    "poly = PolynomialFeatures(degree=2)\n",
    "\n",
    "X_train_trans = poly.fit_transform(X_train)\n",
    "X_test_trans = poly.transform(X_test)\n"
   ]
  },
  {
   "cell_type": "code",
   "execution_count": 12,
   "metadata": {},
   "outputs": [
    {
     "name": "stdout",
     "output_type": "stream",
     "text": [
      "[1.61189486]\n",
      "[1.         1.61189486 2.59820504]\n"
     ]
    }
   ],
   "source": [
    "print(X_train[0])\n",
    "print(X_train_trans[0])\n"
   ]
  },
  {
   "cell_type": "code",
   "execution_count": 13,
   "metadata": {},
   "outputs": [],
   "source": [
    "# include_bias parameter\n"
   ]
  },
  {
   "cell_type": "code",
   "execution_count": 14,
   "metadata": {},
   "outputs": [
    {
     "data": {
      "text/plain": [
       "LinearRegression()"
      ]
     },
     "execution_count": 14,
     "metadata": {},
     "output_type": "execute_result"
    }
   ],
   "source": [
    "lr = LinearRegression()\n",
    "lr.fit(X_train_trans, y_train)\n"
   ]
  },
  {
   "cell_type": "code",
   "execution_count": 15,
   "metadata": {},
   "outputs": [],
   "source": [
    "y_pred = lr.predict(X_test_trans)\n"
   ]
  },
  {
   "cell_type": "code",
   "execution_count": 16,
   "metadata": {},
   "outputs": [
    {
     "data": {
      "text/plain": [
       "0.9069967965352638"
      ]
     },
     "execution_count": 16,
     "metadata": {},
     "output_type": "execute_result"
    }
   ],
   "source": [
    "r2_score(y_test, y_pred)\n"
   ]
  },
  {
   "cell_type": "code",
   "execution_count": 17,
   "metadata": {},
   "outputs": [
    {
     "name": "stdout",
     "output_type": "stream",
     "text": [
      "[[0.         0.93808311 0.85212785]]\n",
      "[2.01414595]\n"
     ]
    }
   ],
   "source": [
    "print(lr.coef_)\n",
    "print(lr.intercept_)\n"
   ]
  },
  {
   "cell_type": "code",
   "execution_count": 18,
   "metadata": {},
   "outputs": [],
   "source": [
    "X_new = np.linspace(-3, 3, 200).reshape(200, 1)\n",
    "X_new_poly = poly.transform(X_new)\n",
    "y_new = lr.predict(X_new_poly)\n"
   ]
  },
  {
   "cell_type": "code",
   "execution_count": 19,
   "metadata": {},
   "outputs": [
    {
     "data": {
      "image/png": "[encoded data removed]",
      "text/plain": [
       "<Figure size 720x432 with 1 Axes>"
      ]
     },
     "metadata": {
      "needs_background": "light"
     },
     "output_type": "display_data"
    }
   ],
   "source": [
    "plt.figure(figsize=(10, 6))\n",
    "plt.plot(X_new, y_new, \"r-\", linewidth=2, label=\"prediction\")\n",
    "plt.plot(X_train, y_train, \"b.\", label=\"Training points\")\n",
    "plt.plot(X_test, y_test, \"g.\", label='Testing points')\n",
    "plt.xlabel(\"x\")\n",
    "plt.ylabel(\"y\")\n",
    "plt.legend()\n",
    "plt.show()\n"
   ]
  },
  {
   "cell_type": "code",
   "execution_count": 20,
   "metadata": {},
   "outputs": [],
   "source": [
    "def polynomail_regression(degree):\n",
    "    X_new = np.linspace(-3, 3, 100).reshape(100, 1)\n",
    "    X_new_poly = poly.transform(X_new)\n",
    "\n",
    "    polybig_features = PolynomialFeatures(degree=degree, include_bias=False)\n",
    "    std_scaler = StandardScaler()\n",
    "    lin_reg = LinearRegression()\n",
    "    polynomail_regression = Pipeline([\n",
    "        (\"poly_feature\", polybig_features),\n",
    "        (\"std_scaler\", std_scaler),\n",
    "        (\"lin_reg\", lin_reg),\n",
    "    ])\n",
    "    polynomail_regression.fit(X, y)\n",
    "    y_newbig = polynomail_regression.predict(X_new)\n",
    "\n",
    "    plt.figure(figsize=(10, 6))\n",
    "    plt.plot(X_new, y_newbig, 'r', label=\"Degree\" + str(degree), linewidth=2)\n",
    "    plt.plot(X_train, y_train, \"b.\", linewidth=3)\n",
    "    plt.plot(X_test, y_test, \"g.\", linewidth=3)\n",
    "    plt.legend(loc=\"upper left\")\n",
    "    plt.xlabel(\"X\")\n",
    "    plt.ylabel(\"y\")\n",
    "    plt.axis([-3, 3, 0, 10])\n",
    "    plt.show()\n"
   ]
  },
  {
   "cell_type": "code",
   "execution_count": 21,
   "metadata": {},
   "outputs": [
    {
     "data": {
      "image/png": "[encoded data removed]",
      "text/plain": [
       "<Figure size 720x432 with 1 Axes>"
      ]
     },
     "metadata": {
      "needs_background": "light"
     },
     "output_type": "display_data"
    }
   ],
   "source": [
    "polynomail_regression(45)\n"
   ]
  },
  {
   "cell_type": "markdown",
   "metadata": {},
   "source": [
    "More than One input columns"
   ]
  },
  {
   "cell_type": "code",
   "execution_count": 22,
   "metadata": {},
   "outputs": [],
   "source": [
    "# 3D polynomial regression\n",
    "x = 7 * np.random.rand(100, 1) - 2.8\n",
    "y = 7 * np.random.rand(100, 1) - 2.8\n",
    "\n",
    "z = x**2 + y**2 + 0.2*x + 0.2*y + 0.1*x*y + 2 + np.random.randn(100, 1)\n",
    "# z  = x^2 + y^2 + 0.2x + 0.2y + 0.1xy + 2\n"
   ]
  },
  {
   "cell_type": "code",
   "execution_count": 23,
   "metadata": {},
   "outputs": [
    {
     "data": {
      "application/vnd.plotly.v1+json": {
       "config": {
        "plotlyServerURL": "https://plot.ly"
       },
       "data": [
        {
         "hovertemplate": "x=%{x}<br>y=%{y}<br>z=%{z}<extra></extra>",
         "legendgroup": "",
         "marker": {
          "color": "#636efa",
          "symbol": "circle"
         },
         "mode": "markers",
         "name": "",
         "scene": "scene",
         "showlegend": false,
         "type": "scatter3d",
         "x": [
          2.4532217488061994,
          -2.6738281690950885,
          -1.5478268419280687,
          2.462765938120204,
          -1.1795082524689668,
          -1.6591418828882054,
          0.6426937856205739,
          4.167826477104078,
          -2.363756557797251,
          -1.6298392451069934,
          0.6409982544647246,
          -2.1763602735392387,
          -2.0195251272576416,
          3.4568454259996013,
          1.9836387049690085,
          1.1985790176920177,
          1.9179359377173126,
          -1.2925210161287095,
          -1.10093964696968,
          4.178969242067228,
          2.1606551170702435,
          -0.06425022396657143,
          1.6953952101489147,
          2.8875119247136674,
          3.1714600163341258,
          0.7912151976848207,
          -0.816294114093818,
          0.6197727880396506,
          -1.4951786040804855,
          -0.3720693784192983,
          3.482896373855941,
          1.1470937953306715,
          3.473255989768546,
          2.398476163640521,
          -0.20759270015613707,
          3.119517910567552,
          -2.6389359737856566,
          -1.793560365000181,
          2.774645843670857,
          -1.9745810955983814,
          -2.6984268478260125,
          3.1211952729387953,
          1.9590834328903934,
          3.4363782660276057,
          1.72097130544324,
          -0.46686547359723685,
          -1.4490826006890074,
          -2.7637719480249663,
          0.11689637113142792,
          0.2656224205761677,
          1.5275695444257655,
          -0.25434276216155016,
          -1.7453564803530834,
          0.0075341630699856665,
          -0.26969472432595687,
          3.5479172737264744,
          4.108594629474431,
          3.616837254640015,
          -2.572794297515606,
          3.536744436406794,
          2.838088738647717,
          -1.74171483663407,
          -0.284550215195833,
          -1.0731968241171057,
          2.317202514308379,
          0.12485349843994697,
          4.108044075524044,
          -0.07482103251760952,
          -1.5275293775152419,
          3.541480890326305,
          -0.10375892073720427,
          3.541401540862907,
          2.796499559574303,
          1.9564934223747574,
          -1.6217446421166724,
          3.73402504846295,
          2.3861888027561173,
          -1.7239239298498612,
          2.770128021203935,
          3.514711724721625,
          0.49502625370944564,
          -0.7312077388706668,
          1.1449862489577671,
          2.2824992132108983,
          3.2048499232293493,
          2.5817160423542456,
          0.4180422839964266,
          0.8462668630845287,
          4.076004039811872,
          2.417820221464406,
          1.393004725616417,
          2.146105681168259,
          0.06670038724928151,
          1.4490511662420982,
          -0.2574495417828846,
          -2.0607123585040372,
          -2.692179571640824,
          -1.1109439362813354,
          0.327951985234642,
          1.3697533013079237
         ],
         "y": [
          -2.207592896657893,
          3.688975149005361,
          -1.9870212947358885,
          2.7462327720958415,
          -1.6164915508283577,
          -1.5761927258108612,
          1.3081309215741044,
          2.9156614007876636,
          1.2819610449766623,
          -0.06621625136685738,
          -1.5192993589836807,
          0.10911566165406317,
          -2.5727369101688335,
          1.5567631098415093,
          -2.6954423380265187,
          2.6214633420524214,
          3.114862541645846,
          2.770438095364079,
          2.6469792188636427,
          3.698927569528399,
          -1.0093451308533261,
          -1.5632136348481234,
          2.298954219046032,
          -0.5681036047276278,
          0.9957962150721307,
          1.392228092954876,
          2.306939558972129,
          -1.339811824399281,
          2.2631821031736914,
          -0.6966945461195295,
          -2.4580993871325205,
          0.4663058596035561,
          3.5940852830684165,
          1.7767579358614265,
          -2.3264950130389734,
          -0.42530652245061784,
          0.6430165753030264,
          0.12000580205515243,
          -1.9844039553505504,
          3.8824312674589763,
          -0.48364121425064477,
          1.2066244926967418,
          -1.0112392453504842,
          0.79660601228289,
          4.071709125073828,
          -0.19268812322230922,
          3.409312842291377,
          1.524385629633005,
          1.045513995513892,
          2.374103883043656,
          1.703805950125581,
          3.0655446205055625,
          1.929374508565786,
          1.6637558221700797,
          -1.811859627521711,
          -1.8122585820829438,
          -2.6811970624298764,
          -1.8199683249722023,
          3.10138742375117,
          3.798019229894715,
          -1.7035988824323063,
          2.2078320250880337,
          3.6033361064077924,
          1.7059150529260831,
          4.065605132335671,
          2.6251643862346006,
          1.9724450659115798,
          0.48346974892935046,
          -0.8284063786538116,
          2.8755563578199865,
          3.14888411071513,
          4.06937828844036,
          2.2410990230410235,
          4.076362557186007,
          -1.9324750801395991,
          0.03863069822254106,
          0.4992652865047784,
          2.7689109975006607,
          -1.356893784352784,
          3.5022866421149024,
          4.16584052715758,
          -2.3795347012120756,
          -0.01564561706916301,
          0.2944311676144169,
          -0.857933333868294,
          -2.2673863574740816,
          1.208407756847115,
          0.6021079847993316,
          -2.18756409457271,
          1.1158422668281416,
          2.358882064069846,
          -0.5781149120572455,
          2.819084795780558,
          4.140536971910582,
          2.8188688026628332,
          -1.6762305502468566,
          -0.2344865145602828,
          -0.7066103738316865,
          0.6374163074535031,
          3.7555617963270507
         ],
         "z": [
          13.24692662279152,
          21.899372180860762,
          9.281397277534522,
          16.306708638935156,
          6.166333911843963,
          7.271517416814327,
          5.6398046848292855,
          30.551436726836215,
          8.210797126542397,
          3.913843915395206,
          4.043640482876086,
          5.358117752276268,
          12.659593286345387,
          17.3551615117658,
          12.200473616062297,
          11.329631060991822,
          16.958056599109245,
          11.330027875997622,
          10.622540905967304,
          35.66291037375553,
          8.832186382355774,
          5.52230493375126,
          10.4382098831394,
          9.100814138149218,
          14.117207266848576,
          4.494281641215039,
          7.7983142994893475,
          5.159418012131098,
          9.265018280782229,
          4.386012702653101,
          19.76137984839008,
          1.425412859479397,
          30.104772026445954,
          12.0666953808649,
          6.714846105804483,
          12.316899852634531,
          8.115001193779284,
          5.168208503908762,
          13.053839087425606,
          21.325659879640924,
          10.440066952973057,
          15.485738530846287,
          6.557894473642931,
          17.979701449677407,
          23.23917874053314,
          1.840429667738795,
          13.735233792637345,
          10.412522719117453,
          1.6865638134295637,
          7.334286252245199,
          8.772614496583882,
          10.978341041870472,
          9.29650566011856,
          5.220664356053077,
          4.516128895153629,
          17.753975823072462,
          24.74684176225223,
          17.08692817425177,
          16.33767663014644,
          32.83863012071186,
          12.005385531028088,
          8.913940613631748,
          13.750160382169389,
          6.748687592925264,
          23.340627375485838,
          10.269352212421445,
          26.448774501165115,
          2.245700853352086,
          5.2014591232864635,
          25.058297482760764,
          11.280145889700359,
          34.042834740494804,
          17.24141165248206,
          23.701880861065717,
          7.039714675698469,
          16.707402507634875,
          7.7033353994443985,
          12.418735302968365,
          12.495242953354367,
          30.771332982081066,
          20.46215833951997,
          8.998292135922593,
          5.274471454167214,
          8.369447698790486,
          13.921708873124773,
          13.324380521744535,
          3.3575141654879674,
          3.4043399340192892,
          23.027238236974693,
          10.637464148000742,
          9.493697843534726,
          6.750036102408305,
          10.136890676000988,
          22.781002498194542,
          10.189713940342836,
          10.768131560065832,
          8.97898818695692,
          3.134494619725543,
          1.5293896129746551,
          20.353080529661632
         ]
        }
       ],
       "layout": {
        "legend": {
         "tracegroupgap": 0
        },
        "margin": {
         "t": 60
        },
        "scene": {
         "domain": {
          "x": [
           0,
           1
          ],
          "y": [
           0,
           1
          ]
         },
         "xaxis": {
          "title": {
           "text": "x"
          }
         },
         "yaxis": {
          "title": {
           "text": "y"
          }
         },
         "zaxis": {
          "title": {
           "text": "z"
          }
         }
        },
        "template": {
         "data": {
          "bar": [
           {
            "error_x": {
             "color": "#2a3f5f"
            },
            "error_y": {
             "color": "#2a3f5f"
            },
            "marker": {
             "line": {
              "color": "#E5ECF6",
              "width": 0.5
             },
             "pattern": {
              "fillmode": "overlay",
              "size": 10,
              "solidity": 0.2
             }
            },
            "type": "bar"
           }
          ],
          "barpolar": [
           {
            "marker": {
             "line": {
              "color": "#E5ECF6",
              "width": 0.5
             },
             "pattern": {
              "fillmode": "overlay",
              "size": 10,
              "solidity": 0.2
             }
            },
            "type": "barpolar"
           }
          ],
          "carpet": [
           {
            "aaxis": {
             "endlinecolor": "#2a3f5f",
             "gridcolor": "white",
             "linecolor": "white",
             "minorgridcolor": "white",
             "startlinecolor": "#2a3f5f"
            },
            "baxis": {
             "endlinecolor": "#2a3f5f",
             "gridcolor": "white",
             "linecolor": "white",
             "minorgridcolor": "white",
             "startlinecolor": "#2a3f5f"
            },
            "type": "carpet"
           }
          ],
          "choropleth": [
           {
            "colorbar": {
             "outlinewidth": 0,
             "ticks": ""
            },
            "type": "choropleth"
           }
          ],
          "contour": [
           {
            "colorbar": {
             "outlinewidth": 0,
             "ticks": ""
            },
            "colorscale": [
             [
              0,
              "#0d0887"
             ],
             [
              0.1111111111111111,
              "#46039f"
             ],
             [
              0.2222222222222222,
              "#7201a8"
             ],
             [
              0.3333333333333333,
              "#9c179e"
             ],
             [
              0.4444444444444444,
              "#bd3786"
             ],
             [
              0.5555555555555556,
              "#d8576b"
             ],
             [
              0.6666666666666666,
              "#ed7953"
             ],
             [
              0.7777777777777778,
              "#fb9f3a"
             ],
             [
              0.8888888888888888,
              "#fdca26"
             ],
             [
              1,
              "#f0f921"
             ]
            ],
            "type": "contour"
           }
          ],
          "contourcarpet": [
           {
            "colorbar": {
             "outlinewidth": 0,
             "ticks": ""
            },
            "type": "contourcarpet"
           }
          ],
          "heatmap": [
           {
            "colorbar": {
             "outlinewidth": 0,
             "ticks": ""
            },
            "colorscale": [
             [
              0,
              "#0d0887"
             ],
             [
              0.1111111111111111,
              "#46039f"
             ],
             [
              0.2222222222222222,
              "#7201a8"
             ],
             [
              0.3333333333333333,
              "#9c179e"
             ],
             [
              0.4444444444444444,
              "#bd3786"
             ],
             [
              0.5555555555555556,
              "#d8576b"
             ],
             [
              0.6666666666666666,
              "#ed7953"
             ],
             [
              0.7777777777777778,
              "#fb9f3a"
             ],
             [
              0.8888888888888888,
              "#fdca26"
             ],
             [
              1,
              "#f0f921"
             ]
            ],
            "type": "heatmap"
           }
          ],
          "heatmapgl": [
           {
            "colorbar": {
             "outlinewidth": 0,
             "ticks": ""
            },
            "colorscale": [
             [
              0,
              "#0d0887"
             ],
             [
              0.1111111111111111,
              "#46039f"
             ],
             [
              0.2222222222222222,
              "#7201a8"
             ],
             [
              0.3333333333333333,
              "#9c179e"
             ],
             [
              0.4444444444444444,
              "#bd3786"
             ],
             [
              0.5555555555555556,
              "#d8576b"
             ],
             [
              0.6666666666666666,
              "#ed7953"
             ],
             [
              0.7777777777777778,
              "#fb9f3a"
             ],
             [
              0.8888888888888888,
              "#fdca26"
             ],
             [
              1,
              "#f0f921"
             ]
            ],
            "type": "heatmapgl"
           }
          ],
          "histogram": [
           {
            "marker": {
             "pattern": {
              "fillmode": "overlay",
              "size": 10,
              "solidity": 0.2
             }
            },
            "type": "histogram"
           }
          ],
          "histogram2d": [
           {
            "colorbar": {
             "outlinewidth": 0,
             "ticks": ""
            },
            "colorscale": [
             [
              0,
              "#0d0887"
             ],
             [
              0.1111111111111111,
              "#46039f"
             ],
             [
              0.2222222222222222,
              "#7201a8"
             ],
             [
              0.3333333333333333,
              "#9c179e"
             ],
             [
              0.4444444444444444,
              "#bd3786"
             ],
             [
              0.5555555555555556,
              "#d8576b"
             ],
             [
              0.6666666666666666,
              "#ed7953"
             ],
             [
              0.7777777777777778,
              "#fb9f3a"
             ],
             [
              0.8888888888888888,
              "#fdca26"
             ],
             [
              1,
              "#f0f921"
             ]
            ],
            "type": "histogram2d"
           }
          ],
          "histogram2dcontour": [
           {
            "colorbar": {
             "outlinewidth": 0,
             "ticks": ""
            },
            "colorscale": [
             [
              0,
              "#0d0887"
             ],
             [
              0.1111111111111111,
              "#46039f"
             ],
             [
              0.2222222222222222,
              "#7201a8"
             ],
             [
              0.3333333333333333,
              "#9c179e"
             ],
             [
              0.4444444444444444,
              "#bd3786"
             ],
             [
              0.5555555555555556,
              "#d8576b"
             ],
             [
              0.6666666666666666,
              "#ed7953"
             ],
             [
              0.7777777777777778,
              "#fb9f3a"
             ],
             [
              0.8888888888888888,
              "#fdca26"
             ],
             [
              1,
              "#f0f921"
             ]
            ],
            "type": "histogram2dcontour"
           }
          ],
          "mesh3d": [
           {
            "colorbar": {
             "outlinewidth": 0,
             "ticks": ""
            },
            "type": "mesh3d"
           }
          ],
          "parcoords": [
           {
            "line": {
             "colorbar": {
              "outlinewidth": 0,
              "ticks": ""
             }
            },
            "type": "parcoords"
           }
          ],
          "pie": [
           {
            "automargin": true,
            "type": "pie"
           }
          ],
          "scatter": [
           {
            "marker": {
             "colorbar": {
              "outlinewidth": 0,
              "ticks": ""
             }
            },
            "type": "scatter"
           }
          ],
          "scatter3d": [
           {
            "line": {
             "colorbar": {
              "outlinewidth": 0,
              "ticks": ""
             }
            },
            "marker": {
             "colorbar": {
              "outlinewidth": 0,
              "ticks": ""
             }
            },
            "type": "scatter3d"
           }
          ],
          "scattercarpet": [
           {
            "marker": {
             "colorbar": {
              "outlinewidth": 0,
              "ticks": ""
             }
            },
            "type": "scattercarpet"
           }
          ],
          "scattergeo": [
           {
            "marker": {
             "colorbar": {
              "outlinewidth": 0,
              "ticks": ""
             }
            },
            "type": "scattergeo"
           }
          ],
          "scattergl": [
           {
            "marker": {
             "colorbar": {
              "outlinewidth": 0,
              "ticks": ""
             }
            },
            "type": "scattergl"
           }
          ],
          "scattermapbox": [
           {
            "marker": {
             "colorbar": {
              "outlinewidth": 0,
              "ticks": ""
             }
            },
            "type": "scattermapbox"
           }
          ],
          "scatterpolar": [
           {
            "marker": {
             "colorbar": {
              "outlinewidth": 0,
              "ticks": ""
             }
            },
            "type": "scatterpolar"
           }
          ],
          "scatterpolargl": [
           {
            "marker": {
             "colorbar": {
              "outlinewidth": 0,
              "ticks": ""
             }
            },
            "type": "scatterpolargl"
           }
          ],
          "scatterternary": [
           {
            "marker": {
             "colorbar": {
              "outlinewidth": 0,
              "ticks": ""
             }
            },
            "type": "scatterternary"
           }
          ],
          "surface": [
           {
            "colorbar": {
             "outlinewidth": 0,
             "ticks": ""
            },
            "colorscale": [
             [
              0,
              "#0d0887"
             ],
             [
              0.1111111111111111,
              "#46039f"
             ],
             [
              0.2222222222222222,
              "#7201a8"
             ],
             [
              0.3333333333333333,
              "#9c179e"
             ],
             [
              0.4444444444444444,
              "#bd3786"
             ],
             [
              0.5555555555555556,
              "#d8576b"
             ],
             [
              0.6666666666666666,
              "#ed7953"
             ],
             [
              0.7777777777777778,
              "#fb9f3a"
             ],
             [
              0.8888888888888888,
              "#fdca26"
             ],
             [
              1,
              "#f0f921"
             ]
            ],
            "type": "surface"
           }
          ],
          "table": [
           {
            "cells": {
             "fill": {
              "color": "#EBF0F8"
             },
             "line": {
              "color": "white"
             }
            },
            "header": {
             "fill": {
              "color": "#C8D4E3"
             },
             "line": {
              "color": "white"
             }
            },
            "type": "table"
           }
          ]
         },
         "layout": {
          "annotationdefaults": {
           "arrowcolor": "#2a3f5f",
           "arrowhead": 0,
           "arrowwidth": 1
          },
          "autotypenumbers": "strict",
          "coloraxis": {
           "colorbar": {
            "outlinewidth": 0,
            "ticks": ""
           }
          },
          "colorscale": {
           "diverging": [
            [
             0,
             "#8e0152"
            ],
            [
             0.1,
             "#c51b7d"
            ],
            [
             0.2,
             "#de77ae"
            ],
            [
             0.3,
             "#f1b6da"
            ],
            [
             0.4,
             "#fde0ef"
            ],
            [
             0.5,
             "#f7f7f7"
            ],
            [
             0.6,
             "#e6f5d0"
            ],
            [
             0.7,
             "#b8e186"
            ],
            [
             0.8,
             "#7fbc41"
            ],
            [
             0.9,
             "#4d9221"
            ],
            [
             1,
             "#276419"
            ]
           ],
           "sequential": [
            [
             0,
             "#0d0887"
            ],
            [
             0.1111111111111111,
             "#46039f"
            ],
            [
             0.2222222222222222,
             "#7201a8"
            ],
            [
             0.3333333333333333,
             "#9c179e"
            ],
            [
             0.4444444444444444,
             "#bd3786"
            ],
            [
             0.5555555555555556,
             "#d8576b"
            ],
            [
             0.6666666666666666,
             "#ed7953"
            ],
            [
             0.7777777777777778,
             "#fb9f3a"
            ],
            [
             0.8888888888888888,
             "#fdca26"
            ],
            [
             1,
             "#f0f921"
            ]
           ],
           "sequentialminus": [
            [
             0,
             "#0d0887"
            ],
            [
             0.1111111111111111,
             "#46039f"
            ],
            [
             0.2222222222222222,
             "#7201a8"
            ],
            [
             0.3333333333333333,
             "#9c179e"
            ],
            [
             0.4444444444444444,
             "#bd3786"
            ],
            [
             0.5555555555555556,
             "#d8576b"
            ],
            [
             0.6666666666666666,
             "#ed7953"
            ],
            [
             0.7777777777777778,
             "#fb9f3a"
            ],
            [
             0.8888888888888888,
             "#fdca26"
            ],
            [
             1,
             "#f0f921"
            ]
           ]
          },
          "colorway": [
           "#636efa",
           "#EF553B",
           "#00cc96",
           "#ab63fa",
           "#FFA15A",
           "#19d3f3",
           "#FF6692",
           "#B6E880",
           "#FF97FF",
           "#FECB52"
          ],
          "font": {
           "color": "#2a3f5f"
          },
          "geo": {
           "bgcolor": "white",
           "lakecolor": "white",
           "landcolor": "#E5ECF6",
           "showlakes": true,
           "showland": true,
           "subunitcolor": "white"
          },
          "hoverlabel": {
           "align": "left"
          },
          "hovermode": "closest",
          "mapbox": {
           "style": "light"
          },
          "paper_bgcolor": "white",
          "plot_bgcolor": "#E5ECF6",
          "polar": {
           "angularaxis": {
            "gridcolor": "white",
            "linecolor": "white",
            "ticks": ""
           },
           "bgcolor": "#E5ECF6",
           "radialaxis": {
            "gridcolor": "white",
            "linecolor": "white",
            "ticks": ""
           }
          },
          "scene": {
           "xaxis": {
            "backgroundcolor": "#E5ECF6",
            "gridcolor": "white",
            "gridwidth": 2,
            "linecolor": "white",
            "showbackground": true,
            "ticks": "",
            "zerolinecolor": "white"
           },
           "yaxis": {
            "backgroundcolor": "#E5ECF6",
            "gridcolor": "white",
            "gridwidth": 2,
            "linecolor": "white",
            "showbackground": true,
            "ticks": "",
            "zerolinecolor": "white"
           },
           "zaxis": {
            "backgroundcolor": "#E5ECF6",
            "gridcolor": "white",
            "gridwidth": 2,
            "linecolor": "white",
            "showbackground": true,
            "ticks": "",
            "zerolinecolor": "white"
           }
          },
          "shapedefaults": {
           "line": {
            "color": "#2a3f5f"
           }
          },
          "ternary": {
           "aaxis": {
            "gridcolor": "white",
            "linecolor": "white",
            "ticks": ""
           },
           "baxis": {
            "gridcolor": "white",
            "linecolor": "white",
            "ticks": ""
           },
           "bgcolor": "#E5ECF6",
           "caxis": {
            "gridcolor": "white",
            "linecolor": "white",
            "ticks": ""
           }
          },
          "title": {
           "x": 0.05
          },
          "xaxis": {
           "automargin": true,
           "gridcolor": "white",
           "linecolor": "white",
           "ticks": "",
           "title": {
            "standoff": 15
           },
           "zerolinecolor": "white",
           "zerolinewidth": 2
          },
          "yaxis": {
           "automargin": true,
           "gridcolor": "white",
           "linecolor": "white",
           "ticks": "",
           "title": {
            "standoff": 15
           },
           "zerolinecolor": "white",
           "zerolinewidth": 2
          }
         }
        }
       }
      }
     },
     "metadata": {},
     "output_type": "display_data"
    }
   ],
   "source": [
    "import plotly.express as px\n",
    "df = px.data.iris()\n",
    "fig = px.scatter_3d(df, x=x.ravel(), y=y.ravel(), z=z.ravel())\n",
    "fig.show()\n"
   ]
  },
  {
   "cell_type": "code",
   "execution_count": 24,
   "metadata": {},
   "outputs": [],
   "source": [
    "lr = LinearRegression()\n",
    "lr.fit(np.array([x, y]).reshape(100, 2), z)\n",
    "\n",
    "x_input = np.linspace(x.min(), x.max(), 10)\n",
    "y_input = np.linspace(y.min(), y.max(), 10)\n",
    "xGrid, yGrid = np.meshgrid(x_input, y_input)\n",
    "\n",
    "final = np.vstack((xGrid.ravel().reshape(1, 100),\n",
    "                  yGrid.ravel().reshape(1, 100))).T\n",
    "\n",
    "z_final = lr.predict(final).reshape(10, 10)\n"
   ]
  },
  {
   "cell_type": "code",
   "execution_count": 25,
   "metadata": {},
   "outputs": [
    {
     "data": {
      "application/vnd.plotly.v1+json": {
       "config": {
        "plotlyServerURL": "https://plot.ly"
       },
       "data": [
        {
         "hovertemplate": "x=%{x}<br>y=%{y}<br>z=%{z}<extra></extra>",
         "legendgroup": "",
         "marker": {
          "color": "#636efa",
          "symbol": "circle"
         },
         "mode": "markers",
         "name": "",
         "scene": "scene",
         "showlegend": false,
         "type": "scatter3d",
         "x": [
          2.4532217488061994,
          -2.6738281690950885,
          -1.5478268419280687,
          2.462765938120204,
          -1.1795082524689668,
          -1.6591418828882054,
          0.6426937856205739,
          4.167826477104078,
          -2.363756557797251,
          -1.6298392451069934,
          0.6409982544647246,
          -2.1763602735392387,
          -2.0195251272576416,
          3.4568454259996013,
          1.9836387049690085,
          1.1985790176920177,
          1.9179359377173126,
          -1.2925210161287095,
          -1.10093964696968,
          4.178969242067228,
          2.1606551170702435,
          -0.06425022396657143,
          1.6953952101489147,
          2.8875119247136674,
          3.1714600163341258,
          0.7912151976848207,
          -0.816294114093818,
          0.6197727880396506,
          -1.4951786040804855,
          -0.3720693784192983,
          3.482896373855941,
          1.1470937953306715,
          3.473255989768546,
          2.398476163640521,
          -0.20759270015613707,
          3.119517910567552,
          -2.6389359737856566,
          -1.793560365000181,
          2.774645843670857,
          -1.9745810955983814,
          -2.6984268478260125,
          3.1211952729387953,
          1.9590834328903934,
          3.4363782660276057,
          1.72097130544324,
          -0.46686547359723685,
          -1.4490826006890074,
          -2.7637719480249663,
          0.11689637113142792,
          0.2656224205761677,
          1.5275695444257655,
          -0.25434276216155016,
          -1.7453564803530834,
          0.0075341630699856665,
          -0.26969472432595687,
          3.5479172737264744,
          4.108594629474431,
          3.616837254640015,
          -2.572794297515606,
          3.536744436406794,
          2.838088738647717,
          -1.74171483663407,
          -0.284550215195833,
          -1.0731968241171057,
          2.317202514308379,
          0.12485349843994697,
          4.108044075524044,
          -0.07482103251760952,
          -1.5275293775152419,
          3.541480890326305,
          -0.10375892073720427,
          3.541401540862907,
          2.796499559574303,
          1.9564934223747574,
          -1.6217446421166724,
          3.73402504846295,
          2.3861888027561173,
          -1.7239239298498612,
          2.770128021203935,
          3.514711724721625,
          0.49502625370944564,
          -0.7312077388706668,
          1.1449862489577671,
          2.2824992132108983,
          3.2048499232293493,
          2.5817160423542456,
          0.4180422839964266,
          0.8462668630845287,
          4.076004039811872,
          2.417820221464406,
          1.393004725616417,
          2.146105681168259,
          0.06670038724928151,
          1.4490511662420982,
          -0.2574495417828846,
          -2.0607123585040372,
          -2.692179571640824,
          -1.1109439362813354,
          0.327951985234642,
          1.3697533013079237
         ],
         "y": [
          -2.207592896657893,
          3.688975149005361,
          -1.9870212947358885,
          2.7462327720958415,
          -1.6164915508283577,
          -1.5761927258108612,
          1.3081309215741044,
          2.9156614007876636,
          1.2819610449766623,
          -0.06621625136685738,
          -1.5192993589836807,
          0.10911566165406317,
          -2.5727369101688335,
          1.5567631098415093,
          -2.6954423380265187,
          2.6214633420524214,
          3.114862541645846,
          2.770438095364079,
          2.6469792188636427,
          3.698927569528399,
          -1.0093451308533261,
          -1.5632136348481234,
          2.298954219046032,
          -0.5681036047276278,
          0.9957962150721307,
          1.392228092954876,
          2.306939558972129,
          -1.339811824399281,
          2.2631821031736914,
          -0.6966945461195295,
          -2.4580993871325205,
          0.4663058596035561,
          3.5940852830684165,
          1.7767579358614265,
          -2.3264950130389734,
          -0.42530652245061784,
          0.6430165753030264,
          0.12000580205515243,
          -1.9844039553505504,
          3.8824312674589763,
          -0.48364121425064477,
          1.2066244926967418,
          -1.0112392453504842,
          0.79660601228289,
          4.071709125073828,
          -0.19268812322230922,
          3.409312842291377,
          1.524385629633005,
          1.045513995513892,
          2.374103883043656,
          1.703805950125581,
          3.0655446205055625,
          1.929374508565786,
          1.6637558221700797,
          -1.811859627521711,
          -1.8122585820829438,
          -2.6811970624298764,
          -1.8199683249722023,
          3.10138742375117,
          3.798019229894715,
          -1.7035988824323063,
          2.2078320250880337,
          3.6033361064077924,
          1.7059150529260831,
          4.065605132335671,
          2.6251643862346006,
          1.9724450659115798,
          0.48346974892935046,
          -0.8284063786538116,
          2.8755563578199865,
          3.14888411071513,
          4.06937828844036,
          2.2410990230410235,
          4.076362557186007,
          -1.9324750801395991,
          0.03863069822254106,
          0.4992652865047784,
          2.7689109975006607,
          -1.356893784352784,
          3.5022866421149024,
          4.16584052715758,
          -2.3795347012120756,
          -0.01564561706916301,
          0.2944311676144169,
          -0.857933333868294,
          -2.2673863574740816,
          1.208407756847115,
          0.6021079847993316,
          -2.18756409457271,
          1.1158422668281416,
          2.358882064069846,
          -0.5781149120572455,
          2.819084795780558,
          4.140536971910582,
          2.8188688026628332,
          -1.6762305502468566,
          -0.2344865145602828,
          -0.7066103738316865,
          0.6374163074535031,
          3.7555617963270507
         ],
         "z": [
          13.24692662279152,
          21.899372180860762,
          9.281397277534522,
          16.306708638935156,
          6.166333911843963,
          7.271517416814327,
          5.6398046848292855,
          30.551436726836215,
          8.210797126542397,
          3.913843915395206,
          4.043640482876086,
          5.358117752276268,
          12.659593286345387,
          17.3551615117658,
          12.200473616062297,
          11.329631060991822,
          16.958056599109245,
          11.330027875997622,
          10.622540905967304,
          35.66291037375553,
          8.832186382355774,
          5.52230493375126,
          10.4382098831394,
          9.100814138149218,
          14.117207266848576,
          4.494281641215039,
          7.7983142994893475,
          5.159418012131098,
          9.265018280782229,
          4.386012702653101,
          19.76137984839008,
          1.425412859479397,
          30.104772026445954,
          12.0666953808649,
          6.714846105804483,
          12.316899852634531,
          8.115001193779284,
          5.168208503908762,
          13.053839087425606,
          21.325659879640924,
          10.440066952973057,
          15.485738530846287,
          6.557894473642931,
          17.979701449677407,
          23.23917874053314,
          1.840429667738795,
          13.735233792637345,
          10.412522719117453,
          1.6865638134295637,
          7.334286252245199,
          8.772614496583882,
          10.978341041870472,
          9.29650566011856,
          5.220664356053077,
          4.516128895153629,
          17.753975823072462,
          24.74684176225223,
          17.08692817425177,
          16.33767663014644,
          32.83863012071186,
          12.005385531028088,
          8.913940613631748,
          13.750160382169389,
          6.748687592925264,
          23.340627375485838,
          10.269352212421445,
          26.448774501165115,
          2.245700853352086,
          5.2014591232864635,
          25.058297482760764,
          11.280145889700359,
          34.042834740494804,
          17.24141165248206,
          23.701880861065717,
          7.039714675698469,
          16.707402507634875,
          7.7033353994443985,
          12.418735302968365,
          12.495242953354367,
          30.771332982081066,
          20.46215833951997,
          8.998292135922593,
          5.274471454167214,
          8.369447698790486,
          13.921708873124773,
          13.324380521744535,
          3.3575141654879674,
          3.4043399340192892,
          23.027238236974693,
          10.637464148000742,
          9.493697843534726,
          6.750036102408305,
          10.136890676000988,
          22.781002498194542,
          10.189713940342836,
          10.768131560065832,
          8.97898818695692,
          3.134494619725543,
          1.5293896129746551,
          20.353080529661632
         ]
        },
        {
         "type": "surface",
         "x": [
          -2.7637719480249663,
          -1.9923562602369447,
          -1.220940572448923,
          -0.44952488466090124,
          0.32189080312712015,
          1.0933064909151415,
          1.8647221787031638,
          2.636137866491185,
          3.4075535542792066,
          4.178969242067228
         ],
         "y": [
          -2.6954423380265187,
          -1.9330775752282854,
          -1.1707128124300523,
          -0.40834804963181925,
          0.35401671316641403,
          1.1163814759646473,
          1.8787462387628802,
          2.6411110015611134,
          3.4034757643593467,
          4.16584052715758
         ],
         "z": [
          [
           8.688245470502551,
           9.222088275894812,
           9.755931081287073,
           10.289773886679335,
           10.823616692071598,
           11.357459497463859,
           11.891302302856122,
           12.425145108248383,
           12.958987913640645,
           13.492830719032906
          ],
          [
           8.979666620275438,
           9.5135094256677,
           10.047352231059962,
           10.581195036452224,
           11.115037841844487,
           11.648880647236748,
           12.18272345262901,
           12.716566258021272,
           13.250409063413533,
           13.784251868805795
          ],
          [
           9.271087770048327,
           9.804930575440588,
           10.338773380832851,
           10.872616186225113,
           11.406458991617374,
           11.940301797009635,
           12.474144602401898,
           13.00798740779416,
           13.541830213186422,
           14.075673018578684
          ],
          [
           9.562508919821216,
           10.096351725213477,
           10.630194530605738,
           11.164037335998001,
           11.697880141390263,
           12.231722946782524,
           12.765565752174787,
           13.299408557567048,
           13.83325136295931,
           14.36709416835157
          ],
          [
           9.853930069594103,
           10.387772874986366,
           10.921615680378627,
           11.45545848577089,
           11.989301291163152,
           12.523144096555413,
           13.056986901947676,
           13.590829707339937,
           14.124672512732198,
           14.65851531812446
          ],
          [
           10.145351219366992,
           10.679194024759255,
           11.213036830151516,
           11.746879635543777,
           12.28072244093604,
           12.814565246328302,
           13.348408051720565,
           13.882250857112826,
           14.416093662505087,
           14.949936467897349
          ],
          [
           10.43677236913988,
           10.970615174532142,
           11.504457979924405,
           12.038300785316666,
           12.572143590708928,
           13.10598639610119,
           13.639829201493452,
           14.173672006885713,
           14.707514812277974,
           15.241357617670237
          ],
          [
           10.72819351891277,
           11.262036324305031,
           11.795879129697292,
           12.329721935089555,
           12.863564740481817,
           13.397407545874078,
           13.93125035126634,
           14.465093156658602,
           14.998935962050865,
           15.532778767443126
          ],
          [
           11.019614668685659,
           11.55345747407792,
           12.087300279470181,
           12.621143084862444,
           13.154985890254705,
           13.688828695646967,
           14.22267150103923,
           14.756514306431491,
           15.290357111823752,
           15.824199917216013
          ],
          [
           11.311035818458546,
           11.844878623850809,
           12.37872142924307,
           12.912564234635333,
           13.446407040027594,
           13.980249845419856,
           14.514092650812117,
           15.04793545620438,
           15.581778261596641,
           16.1156210669889
          ]
         ]
        }
       ],
       "layout": {
        "legend": {
         "tracegroupgap": 0
        },
        "margin": {
         "t": 60
        },
        "scene": {
         "domain": {
          "x": [
           0,
           1
          ],
          "y": [
           0,
           1
          ]
         },
         "xaxis": {
          "title": {
           "text": "x"
          }
         },
         "yaxis": {
          "title": {
           "text": "y"
          }
         },
         "zaxis": {
          "title": {
           "text": "z"
          }
         }
        },
        "template": {
         "data": {
          "bar": [
           {
            "error_x": {
             "color": "#2a3f5f"
            },
            "error_y": {
             "color": "#2a3f5f"
            },
            "marker": {
             "line": {
              "color": "#E5ECF6",
              "width": 0.5
             },
             "pattern": {
              "fillmode": "overlay",
              "size": 10,
              "solidity": 0.2
             }
            },
            "type": "bar"
           }
          ],
          "barpolar": [
           {
            "marker": {
             "line": {
              "color": "#E5ECF6",
              "width": 0.5
             },
             "pattern": {
              "fillmode": "overlay",
              "size": 10,
              "solidity": 0.2
             }
            },
            "type": "barpolar"
           }
          ],
          "carpet": [
           {
            "aaxis": {
             "endlinecolor": "#2a3f5f",
             "gridcolor": "white",
             "linecolor": "white",
             "minorgridcolor": "white",
             "startlinecolor": "#2a3f5f"
            },
            "baxis": {
             "endlinecolor": "#2a3f5f",
             "gridcolor": "white",
             "linecolor": "white",
             "minorgridcolor": "white",
             "startlinecolor": "#2a3f5f"
            },
            "type": "carpet"
           }
          ],
          "choropleth": [
           {
            "colorbar": {
             "outlinewidth": 0,
             "ticks": ""
            },
            "type": "choropleth"
           }
          ],
          "contour": [
           {
            "colorbar": {
             "outlinewidth": 0,
             "ticks": ""
            },
            "colorscale": [
             [
              0,
              "#0d0887"
             ],
             [
              0.1111111111111111,
              "#46039f"
             ],
             [
              0.2222222222222222,
              "#7201a8"
             ],
             [
              0.3333333333333333,
              "#9c179e"
             ],
             [
              0.4444444444444444,
              "#bd3786"
             ],
             [
              0.5555555555555556,
              "#d8576b"
             ],
             [
              0.6666666666666666,
              "#ed7953"
             ],
             [
              0.7777777777777778,
              "#fb9f3a"
             ],
             [
              0.8888888888888888,
              "#fdca26"
             ],
             [
              1,
              "#f0f921"
             ]
            ],
            "type": "contour"
           }
          ],
          "contourcarpet": [
           {
            "colorbar": {
             "outlinewidth": 0,
             "ticks": ""
            },
            "type": "contourcarpet"
           }
          ],
          "heatmap": [
           {
            "colorbar": {
             "outlinewidth": 0,
             "ticks": ""
            },
            "colorscale": [
             [
              0,
              "#0d0887"
             ],
             [
              0.1111111111111111,
              "#46039f"
             ],
             [
              0.2222222222222222,
              "#7201a8"
             ],
             [
              0.3333333333333333,
              "#9c179e"
             ],
             [
              0.4444444444444444,
              "#bd3786"
             ],
             [
              0.5555555555555556,
              "#d8576b"
             ],
             [
              0.6666666666666666,
              "#ed7953"
             ],
             [
              0.7777777777777778,
              "#fb9f3a"
             ],
             [
              0.8888888888888888,
              "#fdca26"
             ],
             [
              1,
              "#f0f921"
             ]
            ],
            "type": "heatmap"
           }
          ],
          "heatmapgl": [
           {
            "colorbar": {
             "outlinewidth": 0,
             "ticks": ""
            },
            "colorscale": [
             [
              0,
              "#0d0887"
             ],
             [
              0.1111111111111111,
              "#46039f"
             ],
             [
              0.2222222222222222,
              "#7201a8"
             ],
             [
              0.3333333333333333,
              "#9c179e"
             ],
             [
              0.4444444444444444,
              "#bd3786"
             ],
             [
              0.5555555555555556,
              "#d8576b"
             ],
             [
              0.6666666666666666,
              "#ed7953"
             ],
             [
              0.7777777777777778,
              "#fb9f3a"
             ],
             [
              0.8888888888888888,
              "#fdca26"
             ],
             [
              1,
              "#f0f921"
             ]
            ],
            "type": "heatmapgl"
           }
          ],
          "histogram": [
           {
            "marker": {
             "pattern": {
              "fillmode": "overlay",
              "size": 10,
              "solidity": 0.2
             }
            },
            "type": "histogram"
           }
          ],
          "histogram2d": [
           {
            "colorbar": {
             "outlinewidth": 0,
             "ticks": ""
            },
            "colorscale": [
             [
              0,
              "#0d0887"
             ],
             [
              0.1111111111111111,
              "#46039f"
             ],
             [
              0.2222222222222222,
              "#7201a8"
             ],
             [
              0.3333333333333333,
              "#9c179e"
             ],
             [
              0.4444444444444444,
              "#bd3786"
             ],
             [
              0.5555555555555556,
              "#d8576b"
             ],
             [
              0.6666666666666666,
              "#ed7953"
             ],
             [
              0.7777777777777778,
              "#fb9f3a"
             ],
             [
              0.8888888888888888,
              "#fdca26"
             ],
             [
              1,
              "#f0f921"
             ]
            ],
            "type": "histogram2d"
           }
          ],
          "histogram2dcontour": [
           {
            "colorbar": {
             "outlinewidth": 0,
             "ticks": ""
            },
            "colorscale": [
             [
              0,
              "#0d0887"
             ],
             [
              0.1111111111111111,
              "#46039f"
             ],
             [
              0.2222222222222222,
              "#7201a8"
             ],
             [
              0.3333333333333333,
              "#9c179e"
             ],
             [
              0.4444444444444444,
              "#bd3786"
             ],
             [
              0.5555555555555556,
              "#d8576b"
             ],
             [
              0.6666666666666666,
              "#ed7953"
             ],
             [
              0.7777777777777778,
              "#fb9f3a"
             ],
             [
              0.8888888888888888,
              "#fdca26"
             ],
             [
              1,
              "#f0f921"
             ]
            ],
            "type": "histogram2dcontour"
           }
          ],
          "mesh3d": [
           {
            "colorbar": {
             "outlinewidth": 0,
             "ticks": ""
            },
            "type": "mesh3d"
           }
          ],
          "parcoords": [
           {
            "line": {
             "colorbar": {
              "outlinewidth": 0,
              "ticks": ""
             }
            },
            "type": "parcoords"
           }
          ],
          "pie": [
           {
            "automargin": true,
            "type": "pie"
           }
          ],
          "scatter": [
           {
            "marker": {
             "colorbar": {
              "outlinewidth": 0,
              "ticks": ""
             }
            },
            "type": "scatter"
           }
          ],
          "scatter3d": [
           {
            "line": {
             "colorbar": {
              "outlinewidth": 0,
              "ticks": ""
             }
            },
            "marker": {
             "colorbar": {
              "outlinewidth": 0,
              "ticks": ""
             }
            },
            "type": "scatter3d"
           }
          ],
          "scattercarpet": [
           {
            "marker": {
             "colorbar": {
              "outlinewidth": 0,
              "ticks": ""
             }
            },
            "type": "scattercarpet"
           }
          ],
          "scattergeo": [
           {
            "marker": {
             "colorbar": {
              "outlinewidth": 0,
              "ticks": ""
             }
            },
            "type": "scattergeo"
           }
          ],
          "scattergl": [
           {
            "marker": {
             "colorbar": {
              "outlinewidth": 0,
              "ticks": ""
             }
            },
            "type": "scattergl"
           }
          ],
          "scattermapbox": [
           {
            "marker": {
             "colorbar": {
              "outlinewidth": 0,
              "ticks": ""
             }
            },
            "type": "scattermapbox"
           }
          ],
          "scatterpolar": [
           {
            "marker": {
             "colorbar": {
              "outlinewidth": 0,
              "ticks": ""
             }
            },
            "type": "scatterpolar"
           }
          ],
          "scatterpolargl": [
           {
            "marker": {
             "colorbar": {
              "outlinewidth": 0,
              "ticks": ""
             }
            },
            "type": "scatterpolargl"
           }
          ],
          "scatterternary": [
           {
            "marker": {
             "colorbar": {
              "outlinewidth": 0,
              "ticks": ""
             }
            },
            "type": "scatterternary"
           }
          ],
          "surface": [
           {
            "colorbar": {
             "outlinewidth": 0,
             "ticks": ""
            },
            "colorscale": [
             [
              0,
              "#0d0887"
             ],
             [
              0.1111111111111111,
              "#46039f"
             ],
             [
              0.2222222222222222,
              "#7201a8"
             ],
             [
              0.3333333333333333,
              "#9c179e"
             ],
             [
              0.4444444444444444,
              "#bd3786"
             ],
             [
              0.5555555555555556,
              "#d8576b"
             ],
             [
              0.6666666666666666,
              "#ed7953"
             ],
             [
              0.7777777777777778,
              "#fb9f3a"
             ],
             [
              0.8888888888888888,
              "#fdca26"
             ],
             [
              1,
              "#f0f921"
             ]
            ],
            "type": "surface"
           }
          ],
          "table": [
           {
            "cells": {
             "fill": {
              "color": "#EBF0F8"
             },
             "line": {
              "color": "white"
             }
            },
            "header": {
             "fill": {
              "color": "#C8D4E3"
             },
             "line": {
              "color": "white"
             }
            },
            "type": "table"
           }
          ]
         },
         "layout": {
          "annotationdefaults": {
           "arrowcolor": "#2a3f5f",
           "arrowhead": 0,
           "arrowwidth": 1
          },
          "autotypenumbers": "strict",
          "coloraxis": {
           "colorbar": {
            "outlinewidth": 0,
            "ticks": ""
           }
          },
          "colorscale": {
           "diverging": [
            [
             0,
             "#8e0152"
            ],
            [
             0.1,
             "#c51b7d"
            ],
            [
             0.2,
             "#de77ae"
            ],
            [
             0.3,
             "#f1b6da"
            ],
            [
             0.4,
             "#fde0ef"
            ],
            [
             0.5,
             "#f7f7f7"
            ],
            [
             0.6,
             "#e6f5d0"
            ],
            [
             0.7,
             "#b8e186"
            ],
            [
             0.8,
             "#7fbc41"
            ],
            [
             0.9,
             "#4d9221"
            ],
            [
             1,
             "#276419"
            ]
           ],
           "sequential": [
            [
             0,
             "#0d0887"
            ],
            [
             0.1111111111111111,
             "#46039f"
            ],
            [
             0.2222222222222222,
             "#7201a8"
            ],
            [
             0.3333333333333333,
             "#9c179e"
            ],
            [
             0.4444444444444444,
             "#bd3786"
            ],
            [
             0.5555555555555556,
             "#d8576b"
            ],
            [
             0.6666666666666666,
             "#ed7953"
            ],
            [
             0.7777777777777778,
             "#fb9f3a"
            ],
            [
             0.8888888888888888,
             "#fdca26"
            ],
            [
             1,
             "#f0f921"
            ]
           ],
           "sequentialminus": [
            [
             0,
             "#0d0887"
            ],
            [
             0.1111111111111111,
             "#46039f"
            ],
            [
             0.2222222222222222,
             "#7201a8"
            ],
            [
             0.3333333333333333,
             "#9c179e"
            ],
            [
             0.4444444444444444,
             "#bd3786"
            ],
            [
             0.5555555555555556,
             "#d8576b"
            ],
            [
             0.6666666666666666,
             "#ed7953"
            ],
            [
             0.7777777777777778,
             "#fb9f3a"
            ],
            [
             0.8888888888888888,
             "#fdca26"
            ],
            [
             1,
             "#f0f921"
            ]
           ]
          },
          "colorway": [
           "#636efa",
           "#EF553B",
           "#00cc96",
           "#ab63fa",
           "#FFA15A",
           "#19d3f3",
           "#FF6692",
           "#B6E880",
           "#FF97FF",
           "#FECB52"
          ],
          "font": {
           "color": "#2a3f5f"
          },
          "geo": {
           "bgcolor": "white",
           "lakecolor": "white",
           "landcolor": "#E5ECF6",
           "showlakes": true,
           "showland": true,
           "subunitcolor": "white"
          },
          "hoverlabel": {
           "align": "left"
          },
          "hovermode": "closest",
          "mapbox": {
           "style": "light"
          },
          "paper_bgcolor": "white",
          "plot_bgcolor": "#E5ECF6",
          "polar": {
           "angularaxis": {
            "gridcolor": "white",
            "linecolor": "white",
            "ticks": ""
           },
           "bgcolor": "#E5ECF6",
           "radialaxis": {
            "gridcolor": "white",
            "linecolor": "white",
            "ticks": ""
           }
          },
          "scene": {
           "xaxis": {
            "backgroundcolor": "#E5ECF6",
            "gridcolor": "white",
            "gridwidth": 2,
            "linecolor": "white",
            "showbackground": true,
            "ticks": "",
            "zerolinecolor": "white"
           },
           "yaxis": {
            "backgroundcolor": "#E5ECF6",
            "gridcolor": "white",
            "gridwidth": 2,
            "linecolor": "white",
            "showbackground": true,
            "ticks": "",
            "zerolinecolor": "white"
           },
           "zaxis": {
            "backgroundcolor": "#E5ECF6",
            "gridcolor": "white",
            "gridwidth": 2,
            "linecolor": "white",
            "showbackground": true,
            "ticks": "",
            "zerolinecolor": "white"
           }
          },
          "shapedefaults": {
           "line": {
            "color": "#2a3f5f"
           }
          },
          "ternary": {
           "aaxis": {
            "gridcolor": "white",
            "linecolor": "white",
            "ticks": ""
           },
           "baxis": {
            "gridcolor": "white",
            "linecolor": "white",
            "ticks": ""
           },
           "bgcolor": "#E5ECF6",
           "caxis": {
            "gridcolor": "white",
            "linecolor": "white",
            "ticks": ""
           }
          },
          "title": {
           "x": 0.05
          },
          "xaxis": {
           "automargin": true,
           "gridcolor": "white",
           "linecolor": "white",
           "ticks": "",
           "title": {
            "standoff": 15
           },
           "zerolinecolor": "white",
           "zerolinewidth": 2
          },
          "yaxis": {
           "automargin": true,
           "gridcolor": "white",
           "linecolor": "white",
           "ticks": "",
           "title": {
            "standoff": 15
           },
           "zerolinecolor": "white",
           "zerolinewidth": 2
          }
         }
        }
       }
      }
     },
     "metadata": {},
     "output_type": "display_data"
    }
   ],
   "source": [
    "import plotly.graph_objects as go\n",
    "fig = px.scatter_3d(df, x=x.ravel(), y=y.ravel(), z=z.ravel())\n",
    "fig.add_trace(go.Surface(x=x_input, y=y_input, z=z_final))\n",
    "fig.show()\n"
   ]
  },
  {
   "cell_type": "code",
   "execution_count": 26,
   "metadata": {},
   "outputs": [
    {
     "data": {
      "text/plain": [
       "(100, 2)"
      ]
     },
     "execution_count": 26,
     "metadata": {},
     "output_type": "execute_result"
    }
   ],
   "source": [
    "X_multi = np.array([x, y]).reshape(100, 2)\n",
    "X_multi.shape\n"
   ]
  },
  {
   "cell_type": "code",
   "execution_count": 29,
   "metadata": {},
   "outputs": [],
   "source": [
    "poly = PolynomialFeatures(degree=2)\n",
    "X_multi_trans = poly.fit_transform(X_multi)\n"
   ]
  },
  {
   "cell_type": "code",
   "execution_count": 30,
   "metadata": {},
   "outputs": [
    {
     "name": "stdout",
     "output_type": "stream",
     "text": [
      "Input 2\n",
      "('Output', 6)\n",
      "Powers\n",
      " [[0 0]\n",
      " [1 0]\n",
      " [0 1]\n",
      " [2 0]\n",
      " [1 1]\n",
      " [0 2]]\n"
     ]
    },
    {
     "name": "stderr",
     "output_type": "stream",
     "text": [
      "c:\\Users\\dhanr\\anaconda3\\lib\\site-packages\\sklearn\\utils\\deprecation.py:103: FutureWarning:\n",
      "\n",
      "The attribute `n_input_features_` was deprecated in version 1.0 and will be removed in 1.2.\n",
      "\n"
     ]
    }
   ],
   "source": [
    "print(\"Input\", poly.n_input_features_)\n",
    "print((\"Output\", poly.n_output_features_))\n",
    "print(\"Powers\\n\", poly.powers_)\n"
   ]
  },
  {
   "cell_type": "code",
   "execution_count": 31,
   "metadata": {},
   "outputs": [
    {
     "data": {
      "text/plain": [
       "(100, 6)"
      ]
     },
     "execution_count": 31,
     "metadata": {},
     "output_type": "execute_result"
    }
   ],
   "source": [
    "X_multi_trans.shape\n"
   ]
  },
  {
   "cell_type": "code",
   "execution_count": 32,
   "metadata": {},
   "outputs": [
    {
     "data": {
      "text/plain": [
       "LinearRegression()"
      ]
     },
     "execution_count": 32,
     "metadata": {},
     "output_type": "execute_result"
    }
   ],
   "source": [
    "lr = LinearRegression()\n",
    "lr.fit(X_multi_trans, z)\n"
   ]
  },
  {
   "cell_type": "code",
   "execution_count": 33,
   "metadata": {},
   "outputs": [],
   "source": [
    "X_test_multi = poly.transform(final)\n"
   ]
  },
  {
   "cell_type": "code",
   "execution_count": 34,
   "metadata": {},
   "outputs": [],
   "source": [
    "z_final = lr.predict(X_multi_trans).reshape(10, 10)\n"
   ]
  },
  {
   "cell_type": "code",
   "execution_count": 35,
   "metadata": {},
   "outputs": [
    {
     "data": {
      "application/vnd.plotly.v1+json": {
       "config": {
        "plotlyServerURL": "https://plot.ly"
       },
       "data": [
        {
         "hovertemplate": "x=%{x}<br>y=%{y}<br>z=%{z}<extra></extra>",
         "legendgroup": "",
         "marker": {
          "color": "#636efa",
          "symbol": "circle"
         },
         "mode": "markers",
         "name": "",
         "scene": "scene",
         "showlegend": false,
         "type": "scatter3d",
         "x": [
          2.4532217488061994,
          -2.6738281690950885,
          -1.5478268419280687,
          2.462765938120204,
          -1.1795082524689668,
          -1.6591418828882054,
          0.6426937856205739,
          4.167826477104078,
          -2.363756557797251,
          -1.6298392451069934,
          0.6409982544647246,
          -2.1763602735392387,
          -2.0195251272576416,
          3.4568454259996013,
          1.9836387049690085,
          1.1985790176920177,
          1.9179359377173126,
          -1.2925210161287095,
          -1.10093964696968,
          4.178969242067228,
          2.1606551170702435,
          -0.06425022396657143,
          1.6953952101489147,
          2.8875119247136674,
          3.1714600163341258,
          0.7912151976848207,
          -0.816294114093818,
          0.6197727880396506,
          -1.4951786040804855,
          -0.3720693784192983,
          3.482896373855941,
          1.1470937953306715,
          3.473255989768546,
          2.398476163640521,
          -0.20759270015613707,
          3.119517910567552,
          -2.6389359737856566,
          -1.793560365000181,
          2.774645843670857,
          -1.9745810955983814,
          -2.6984268478260125,
          3.1211952729387953,
          1.9590834328903934,
          3.4363782660276057,
          1.72097130544324,
          -0.46686547359723685,
          -1.4490826006890074,
          -2.7637719480249663,
          0.11689637113142792,
          0.2656224205761677,
          1.5275695444257655,
          -0.25434276216155016,
          -1.7453564803530834,
          0.0075341630699856665,
          -0.26969472432595687,
          3.5479172737264744,
          4.108594629474431,
          3.616837254640015,
          -2.572794297515606,
          3.536744436406794,
          2.838088738647717,
          -1.74171483663407,
          -0.284550215195833,
          -1.0731968241171057,
          2.317202514308379,
          0.12485349843994697,
          4.108044075524044,
          -0.07482103251760952,
          -1.5275293775152419,
          3.541480890326305,
          -0.10375892073720427,
          3.541401540862907,
          2.796499559574303,
          1.9564934223747574,
          -1.6217446421166724,
          3.73402504846295,
          2.3861888027561173,
          -1.7239239298498612,
          2.770128021203935,
          3.514711724721625,
          0.49502625370944564,
          -0.7312077388706668,
          1.1449862489577671,
          2.2824992132108983,
          3.2048499232293493,
          2.5817160423542456,
          0.4180422839964266,
          0.8462668630845287,
          4.076004039811872,
          2.417820221464406,
          1.393004725616417,
          2.146105681168259,
          0.06670038724928151,
          1.4490511662420982,
          -0.2574495417828846,
          -2.0607123585040372,
          -2.692179571640824,
          -1.1109439362813354,
          0.327951985234642,
          1.3697533013079237
         ],
         "y": [
          -2.207592896657893,
          3.688975149005361,
          -1.9870212947358885,
          2.7462327720958415,
          -1.6164915508283577,
          -1.5761927258108612,
          1.3081309215741044,
          2.9156614007876636,
          1.2819610449766623,
          -0.06621625136685738,
          -1.5192993589836807,
          0.10911566165406317,
          -2.5727369101688335,
          1.5567631098415093,
          -2.6954423380265187,
          2.6214633420524214,
          3.114862541645846,
          2.770438095364079,
          2.6469792188636427,
          3.698927569528399,
          -1.0093451308533261,
          -1.5632136348481234,
          2.298954219046032,
          -0.5681036047276278,
          0.9957962150721307,
          1.392228092954876,
          2.306939558972129,
          -1.339811824399281,
          2.2631821031736914,
          -0.6966945461195295,
          -2.4580993871325205,
          0.4663058596035561,
          3.5940852830684165,
          1.7767579358614265,
          -2.3264950130389734,
          -0.42530652245061784,
          0.6430165753030264,
          0.12000580205515243,
          -1.9844039553505504,
          3.8824312674589763,
          -0.48364121425064477,
          1.2066244926967418,
          -1.0112392453504842,
          0.79660601228289,
          4.071709125073828,
          -0.19268812322230922,
          3.409312842291377,
          1.524385629633005,
          1.045513995513892,
          2.374103883043656,
          1.703805950125581,
          3.0655446205055625,
          1.929374508565786,
          1.6637558221700797,
          -1.811859627521711,
          -1.8122585820829438,
          -2.6811970624298764,
          -1.8199683249722023,
          3.10138742375117,
          3.798019229894715,
          -1.7035988824323063,
          2.2078320250880337,
          3.6033361064077924,
          1.7059150529260831,
          4.065605132335671,
          2.6251643862346006,
          1.9724450659115798,
          0.48346974892935046,
          -0.8284063786538116,
          2.8755563578199865,
          3.14888411071513,
          4.06937828844036,
          2.2410990230410235,
          4.076362557186007,
          -1.9324750801395991,
          0.03863069822254106,
          0.4992652865047784,
          2.7689109975006607,
          -1.356893784352784,
          3.5022866421149024,
          4.16584052715758,
          -2.3795347012120756,
          -0.01564561706916301,
          0.2944311676144169,
          -0.857933333868294,
          -2.2673863574740816,
          1.208407756847115,
          0.6021079847993316,
          -2.18756409457271,
          1.1158422668281416,
          2.358882064069846,
          -0.5781149120572455,
          2.819084795780558,
          4.140536971910582,
          2.8188688026628332,
          -1.6762305502468566,
          -0.2344865145602828,
          -0.7066103738316865,
          0.6374163074535031,
          3.7555617963270507
         ],
         "z": [
          13.24692662279152,
          21.899372180860762,
          9.281397277534522,
          16.306708638935156,
          6.166333911843963,
          7.271517416814327,
          5.6398046848292855,
          30.551436726836215,
          8.210797126542397,
          3.913843915395206,
          4.043640482876086,
          5.358117752276268,
          12.659593286345387,
          17.3551615117658,
          12.200473616062297,
          11.329631060991822,
          16.958056599109245,
          11.330027875997622,
          10.622540905967304,
          35.66291037375553,
          8.832186382355774,
          5.52230493375126,
          10.4382098831394,
          9.100814138149218,
          14.117207266848576,
          4.494281641215039,
          7.7983142994893475,
          5.159418012131098,
          9.265018280782229,
          4.386012702653101,
          19.76137984839008,
          1.425412859479397,
          30.104772026445954,
          12.0666953808649,
          6.714846105804483,
          12.316899852634531,
          8.115001193779284,
          5.168208503908762,
          13.053839087425606,
          21.325659879640924,
          10.440066952973057,
          15.485738530846287,
          6.557894473642931,
          17.979701449677407,
          23.23917874053314,
          1.840429667738795,
          13.735233792637345,
          10.412522719117453,
          1.6865638134295637,
          7.334286252245199,
          8.772614496583882,
          10.978341041870472,
          9.29650566011856,
          5.220664356053077,
          4.516128895153629,
          17.753975823072462,
          24.74684176225223,
          17.08692817425177,
          16.33767663014644,
          32.83863012071186,
          12.005385531028088,
          8.913940613631748,
          13.750160382169389,
          6.748687592925264,
          23.340627375485838,
          10.269352212421445,
          26.448774501165115,
          2.245700853352086,
          5.2014591232864635,
          25.058297482760764,
          11.280145889700359,
          34.042834740494804,
          17.24141165248206,
          23.701880861065717,
          7.039714675698469,
          16.707402507634875,
          7.7033353994443985,
          12.418735302968365,
          12.495242953354367,
          30.771332982081066,
          20.46215833951997,
          8.998292135922593,
          5.274471454167214,
          8.369447698790486,
          13.921708873124773,
          13.324380521744535,
          3.3575141654879674,
          3.4043399340192892,
          23.027238236974693,
          10.637464148000742,
          9.493697843534726,
          6.750036102408305,
          10.136890676000988,
          22.781002498194542,
          10.189713940342836,
          10.768131560065832,
          8.97898818695692,
          3.134494619725543,
          1.5293896129746551,
          20.353080529661632
         ]
        },
        {
         "type": "surface",
         "x": [
          -2.7637719480249663,
          -1.9923562602369447,
          -1.220940572448923,
          -0.44952488466090124,
          0.32189080312712015,
          1.0933064909151415,
          1.8647221787031638,
          2.636137866491185,
          3.4075535542792066,
          4.178969242067228
         ],
         "y": [
          -2.6954423380265187,
          -1.9330775752282854,
          -1.1707128124300523,
          -0.40834804963181925,
          0.35401671316641403,
          1.1163814759646473,
          1.8787462387628802,
          2.6411110015611134,
          3.4034757643593467,
          4.16584052715758
         ],
         "z": [
          [
           11.098897419220883,
           12.057867646607656,
           9.350261669612944,
           11.991857013347317,
           9.111195107471634,
           9.781344415281103,
           11.906026122331998,
           13.8144781637367,
           12.184576304109523,
           11.51273727344275
          ],
          [
           13.491238464556702,
           13.402546917294243,
           15.124221930250384,
           11.693085541273565,
           10.747579341454767,
           15.620245649170261,
           15.489856532763792,
           12.198462304773035,
           8.855037874753926,
           12.503230807790917
          ],
          [
           12.138981017636455,
           13.370949432110088,
           12.726595459933057,
           7.510658793794497,
           11.91930562200135,
           12.689059891511716,
           11.040109285505952,
           12.007015934243302,
           15.703216346561993,
           11.99821318437716
          ],
          [
           12.871312653977284,
           10.512693910098001,
           13.781904123995211,
           16.189608237978412,
           11.835342870823585,
           12.063213323664867,
           14.73730744611099,
           11.757679903572086,
           12.278185218715755,
           14.113053018327602
          ],
          [
           11.387404531902973,
           13.117277320512947,
           15.084784495231514,
           12.409374850180562,
           16.3266034148568,
           13.323806209696713,
           12.399915921098923,
           9.260491874801595,
           9.806245250183325,
           12.524959663149387
          ],
          [
           11.853261582165116,
           12.05284679191582,
           9.319806749531711,
           13.08663987640533,
           12.586146829871511,
           11.160203608032024,
           11.97081024063489,
           12.18312729153971,
           14.901948078372925,
           13.858760038075651
          ],
          [
           9.549106534376719,
           13.30038785079445,
           12.976957629931443,
           12.603743095214938,
           13.153550492777452,
           11.37114513452801,
           15.7814757802577,
           10.591828958855553,
           12.179165155907263,
           11.727498715767705
          ],
          [
           12.08209394454498,
           11.728700075064104,
           16.068467595897573,
           15.540636147013014,
           13.032917012212554,
           13.338814751927252,
           13.815102249516237,
           8.935460989380818,
           8.814175974025247,
           14.279777501840126
          ],
          [
           12.04633303694908,
           15.800782293413107,
           16.231007424714154,
           13.574785787006007,
           12.096564386757873,
           14.11294683043132,
           13.18010753344097,
           11.044275228941421,
           12.612524881611419,
           11.850950741536062
          ],
          [
           14.22337979983742,
           11.860349672860949,
           8.60193827459064,
           12.89586042819719,
           11.74722107804114,
           13.365340368391278,
           13.691044293148607,
           12.918983943532314,
           10.926987771976494,
           12.26560515269048
          ]
         ]
        }
       ],
       "layout": {
        "legend": {
         "tracegroupgap": 0
        },
        "margin": {
         "t": 60
        },
        "scene": {
         "domain": {
          "x": [
           0,
           1
          ],
          "y": [
           0,
           1
          ]
         },
         "xaxis": {
          "title": {
           "text": "x"
          }
         },
         "yaxis": {
          "title": {
           "text": "y"
          }
         },
         "zaxis": {
          "range": [
           0,
           35
          ],
          "title": {
           "text": "z"
          }
         }
        },
        "template": {
         "data": {
          "bar": [
           {
            "error_x": {
             "color": "#2a3f5f"
            },
            "error_y": {
             "color": "#2a3f5f"
            },
            "marker": {
             "line": {
              "color": "#E5ECF6",
              "width": 0.5
             },
             "pattern": {
              "fillmode": "overlay",
              "size": 10,
              "solidity": 0.2
             }
            },
            "type": "bar"
           }
          ],
          "barpolar": [
           {
            "marker": {
             "line": {
              "color": "#E5ECF6",
              "width": 0.5
             },
             "pattern": {
              "fillmode": "overlay",
              "size": 10,
              "solidity": 0.2
             }
            },
            "type": "barpolar"
           }
          ],
          "carpet": [
           {
            "aaxis": {
             "endlinecolor": "#2a3f5f",
             "gridcolor": "white",
             "linecolor": "white",
             "minorgridcolor": "white",
             "startlinecolor": "#2a3f5f"
            },
            "baxis": {
             "endlinecolor": "#2a3f5f",
             "gridcolor": "white",
             "linecolor": "white",
             "minorgridcolor": "white",
             "startlinecolor": "#2a3f5f"
            },
            "type": "carpet"
           }
          ],
          "choropleth": [
           {
            "colorbar": {
             "outlinewidth": 0,
             "ticks": ""
            },
            "type": "choropleth"
           }
          ],
          "contour": [
           {
            "colorbar": {
             "outlinewidth": 0,
             "ticks": ""
            },
            "colorscale": [
             [
              0,
              "#0d0887"
             ],
             [
              0.1111111111111111,
              "#46039f"
             ],
             [
              0.2222222222222222,
              "#7201a8"
             ],
             [
              0.3333333333333333,
              "#9c179e"
             ],
             [
              0.4444444444444444,
              "#bd3786"
             ],
             [
              0.5555555555555556,
              "#d8576b"
             ],
             [
              0.6666666666666666,
              "#ed7953"
             ],
             [
              0.7777777777777778,
              "#fb9f3a"
             ],
             [
              0.8888888888888888,
              "#fdca26"
             ],
             [
              1,
              "#f0f921"
             ]
            ],
            "type": "contour"
           }
          ],
          "contourcarpet": [
           {
            "colorbar": {
             "outlinewidth": 0,
             "ticks": ""
            },
            "type": "contourcarpet"
           }
          ],
          "heatmap": [
           {
            "colorbar": {
             "outlinewidth": 0,
             "ticks": ""
            },
            "colorscale": [
             [
              0,
              "#0d0887"
             ],
             [
              0.1111111111111111,
              "#46039f"
             ],
             [
              0.2222222222222222,
              "#7201a8"
             ],
             [
              0.3333333333333333,
              "#9c179e"
             ],
             [
              0.4444444444444444,
              "#bd3786"
             ],
             [
              0.5555555555555556,
              "#d8576b"
             ],
             [
              0.6666666666666666,
              "#ed7953"
             ],
             [
              0.7777777777777778,
              "#fb9f3a"
             ],
             [
              0.8888888888888888,
              "#fdca26"
             ],
             [
              1,
              "#f0f921"
             ]
            ],
            "type": "heatmap"
           }
          ],
          "heatmapgl": [
           {
            "colorbar": {
             "outlinewidth": 0,
             "ticks": ""
            },
            "colorscale": [
             [
              0,
              "#0d0887"
             ],
             [
              0.1111111111111111,
              "#46039f"
             ],
             [
              0.2222222222222222,
              "#7201a8"
             ],
             [
              0.3333333333333333,
              "#9c179e"
             ],
             [
              0.4444444444444444,
              "#bd3786"
             ],
             [
              0.5555555555555556,
              "#d8576b"
             ],
             [
              0.6666666666666666,
              "#ed7953"
             ],
             [
              0.7777777777777778,
              "#fb9f3a"
             ],
             [
              0.8888888888888888,
              "#fdca26"
             ],
             [
              1,
              "#f0f921"
             ]
            ],
            "type": "heatmapgl"
           }
          ],
          "histogram": [
           {
            "marker": {
             "pattern": {
              "fillmode": "overlay",
              "size": 10,
              "solidity": 0.2
             }
            },
            "type": "histogram"
           }
          ],
          "histogram2d": [
           {
            "colorbar": {
             "outlinewidth": 0,
             "ticks": ""
            },
            "colorscale": [
             [
              0,
              "#0d0887"
             ],
             [
              0.1111111111111111,
              "#46039f"
             ],
             [
              0.2222222222222222,
              "#7201a8"
             ],
             [
              0.3333333333333333,
              "#9c179e"
             ],
             [
              0.4444444444444444,
              "#bd3786"
             ],
             [
              0.5555555555555556,
              "#d8576b"
             ],
             [
              0.6666666666666666,
              "#ed7953"
             ],
             [
              0.7777777777777778,
              "#fb9f3a"
             ],
             [
              0.8888888888888888,
              "#fdca26"
             ],
             [
              1,
              "#f0f921"
             ]
            ],
            "type": "histogram2d"
           }
          ],
          "histogram2dcontour": [
           {
            "colorbar": {
             "outlinewidth": 0,
             "ticks": ""
            },
            "colorscale": [
             [
              0,
              "#0d0887"
             ],
             [
              0.1111111111111111,
              "#46039f"
             ],
             [
              0.2222222222222222,
              "#7201a8"
             ],
             [
              0.3333333333333333,
              "#9c179e"
             ],
             [
              0.4444444444444444,
              "#bd3786"
             ],
             [
              0.5555555555555556,
              "#d8576b"
             ],
             [
              0.6666666666666666,
              "#ed7953"
             ],
             [
              0.7777777777777778,
              "#fb9f3a"
             ],
             [
              0.8888888888888888,
              "#fdca26"
             ],
             [
              1,
              "#f0f921"
             ]
            ],
            "type": "histogram2dcontour"
           }
          ],
          "mesh3d": [
           {
            "colorbar": {
             "outlinewidth": 0,
             "ticks": ""
            },
            "type": "mesh3d"
           }
          ],
          "parcoords": [
           {
            "line": {
             "colorbar": {
              "outlinewidth": 0,
              "ticks": ""
             }
            },
            "type": "parcoords"
           }
          ],
          "pie": [
           {
            "automargin": true,
            "type": "pie"
           }
          ],
          "scatter": [
           {
            "marker": {
             "colorbar": {
              "outlinewidth": 0,
              "ticks": ""
             }
            },
            "type": "scatter"
           }
          ],
          "scatter3d": [
           {
            "line": {
             "colorbar": {
              "outlinewidth": 0,
              "ticks": ""
             }
            },
            "marker": {
             "colorbar": {
              "outlinewidth": 0,
              "ticks": ""
             }
            },
            "type": "scatter3d"
           }
          ],
          "scattercarpet": [
           {
            "marker": {
             "colorbar": {
              "outlinewidth": 0,
              "ticks": ""
             }
            },
            "type": "scattercarpet"
           }
          ],
          "scattergeo": [
           {
            "marker": {
             "colorbar": {
              "outlinewidth": 0,
              "ticks": ""
             }
            },
            "type": "scattergeo"
           }
          ],
          "scattergl": [
           {
            "marker": {
             "colorbar": {
              "outlinewidth": 0,
              "ticks": ""
             }
            },
            "type": "scattergl"
           }
          ],
          "scattermapbox": [
           {
            "marker": {
             "colorbar": {
              "outlinewidth": 0,
              "ticks": ""
             }
            },
            "type": "scattermapbox"
           }
          ],
          "scatterpolar": [
           {
            "marker": {
             "colorbar": {
              "outlinewidth": 0,
              "ticks": ""
             }
            },
            "type": "scatterpolar"
           }
          ],
          "scatterpolargl": [
           {
            "marker": {
             "colorbar": {
              "outlinewidth": 0,
              "ticks": ""
             }
            },
            "type": "scatterpolargl"
           }
          ],
          "scatterternary": [
           {
            "marker": {
             "colorbar": {
              "outlinewidth": 0,
              "ticks": ""
             }
            },
            "type": "scatterternary"
           }
          ],
          "surface": [
           {
            "colorbar": {
             "outlinewidth": 0,
             "ticks": ""
            },
            "colorscale": [
             [
              0,
              "#0d0887"
             ],
             [
              0.1111111111111111,
              "#46039f"
             ],
             [
              0.2222222222222222,
              "#7201a8"
             ],
             [
              0.3333333333333333,
              "#9c179e"
             ],
             [
              0.4444444444444444,
              "#bd3786"
             ],
             [
              0.5555555555555556,
              "#d8576b"
             ],
             [
              0.6666666666666666,
              "#ed7953"
             ],
             [
              0.7777777777777778,
              "#fb9f3a"
             ],
             [
              0.8888888888888888,
              "#fdca26"
             ],
             [
              1,
              "#f0f921"
             ]
            ],
            "type": "surface"
           }
          ],
          "table": [
           {
            "cells": {
             "fill": {
              "color": "#EBF0F8"
             },
             "line": {
              "color": "white"
             }
            },
            "header": {
             "fill": {
              "color": "#C8D4E3"
             },
             "line": {
              "color": "white"
             }
            },
            "type": "table"
           }
          ]
         },
         "layout": {
          "annotationdefaults": {
           "arrowcolor": "#2a3f5f",
           "arrowhead": 0,
           "arrowwidth": 1
          },
          "autotypenumbers": "strict",
          "coloraxis": {
           "colorbar": {
            "outlinewidth": 0,
            "ticks": ""
           }
          },
          "colorscale": {
           "diverging": [
            [
             0,
             "#8e0152"
            ],
            [
             0.1,
             "#c51b7d"
            ],
            [
             0.2,
             "#de77ae"
            ],
            [
             0.3,
             "#f1b6da"
            ],
            [
             0.4,
             "#fde0ef"
            ],
            [
             0.5,
             "#f7f7f7"
            ],
            [
             0.6,
             "#e6f5d0"
            ],
            [
             0.7,
             "#b8e186"
            ],
            [
             0.8,
             "#7fbc41"
            ],
            [
             0.9,
             "#4d9221"
            ],
            [
             1,
             "#276419"
            ]
           ],
           "sequential": [
            [
             0,
             "#0d0887"
            ],
            [
             0.1111111111111111,
             "#46039f"
            ],
            [
             0.2222222222222222,
             "#7201a8"
            ],
            [
             0.3333333333333333,
             "#9c179e"
            ],
            [
             0.4444444444444444,
             "#bd3786"
            ],
            [
             0.5555555555555556,
             "#d8576b"
            ],
            [
             0.6666666666666666,
             "#ed7953"
            ],
            [
             0.7777777777777778,
             "#fb9f3a"
            ],
            [
             0.8888888888888888,
             "#fdca26"
            ],
            [
             1,
             "#f0f921"
            ]
           ],
           "sequentialminus": [
            [
             0,
             "#0d0887"
            ],
            [
             0.1111111111111111,
             "#46039f"
            ],
            [
             0.2222222222222222,
             "#7201a8"
            ],
            [
             0.3333333333333333,
             "#9c179e"
            ],
            [
             0.4444444444444444,
             "#bd3786"
            ],
            [
             0.5555555555555556,
             "#d8576b"
            ],
            [
             0.6666666666666666,
             "#ed7953"
            ],
            [
             0.7777777777777778,
             "#fb9f3a"
            ],
            [
             0.8888888888888888,
             "#fdca26"
            ],
            [
             1,
             "#f0f921"
            ]
           ]
          },
          "colorway": [
           "#636efa",
           "#EF553B",
           "#00cc96",
           "#ab63fa",
           "#FFA15A",
           "#19d3f3",
           "#FF6692",
           "#B6E880",
           "#FF97FF",
           "#FECB52"
          ],
          "font": {
           "color": "#2a3f5f"
          },
          "geo": {
           "bgcolor": "white",
           "lakecolor": "white",
           "landcolor": "#E5ECF6",
           "showlakes": true,
           "showland": true,
           "subunitcolor": "white"
          },
          "hoverlabel": {
           "align": "left"
          },
          "hovermode": "closest",
          "mapbox": {
           "style": "light"
          },
          "paper_bgcolor": "white",
          "plot_bgcolor": "#E5ECF6",
          "polar": {
           "angularaxis": {
            "gridcolor": "white",
            "linecolor": "white",
            "ticks": ""
           },
           "bgcolor": "#E5ECF6",
           "radialaxis": {
            "gridcolor": "white",
            "linecolor": "white",
            "ticks": ""
           }
          },
          "scene": {
           "xaxis": {
            "backgroundcolor": "#E5ECF6",
            "gridcolor": "white",
            "gridwidth": 2,
            "linecolor": "white",
            "showbackground": true,
            "ticks": "",
            "zerolinecolor": "white"
           },
           "yaxis": {
            "backgroundcolor": "#E5ECF6",
            "gridcolor": "white",
            "gridwidth": 2,
            "linecolor": "white",
            "showbackground": true,
            "ticks": "",
            "zerolinecolor": "white"
           },
           "zaxis": {
            "backgroundcolor": "#E5ECF6",
            "gridcolor": "white",
            "gridwidth": 2,
            "linecolor": "white",
            "showbackground": true,
            "ticks": "",
            "zerolinecolor": "white"
           }
          },
          "shapedefaults": {
           "line": {
            "color": "#2a3f5f"
           }
          },
          "ternary": {
           "aaxis": {
            "gridcolor": "white",
            "linecolor": "white",
            "ticks": ""
           },
           "baxis": {
            "gridcolor": "white",
            "linecolor": "white",
            "ticks": ""
           },
           "bgcolor": "#E5ECF6",
           "caxis": {
            "gridcolor": "white",
            "linecolor": "white",
            "ticks": ""
           }
          },
          "title": {
           "x": 0.05
          },
          "xaxis": {
           "automargin": true,
           "gridcolor": "white",
           "linecolor": "white",
           "ticks": "",
           "title": {
            "standoff": 15
           },
           "zerolinecolor": "white",
           "zerolinewidth": 2
          },
          "yaxis": {
           "automargin": true,
           "gridcolor": "white",
           "linecolor": "white",
           "ticks": "",
           "title": {
            "standoff": 15
           },
           "zerolinecolor": "white",
           "zerolinewidth": 2
          }
         }
        }
       }
      }
     },
     "metadata": {},
     "output_type": "display_data"
    }
   ],
   "source": [
    "fig = px.scatter_3d(x=x.ravel(), y=y.ravel(), z=z.ravel())\n",
    "fig.add_trace(go.Surface(x=x_input, y=y_input, z=z_final))\n",
    "fig.update_layout(scene=dict(zaxis=dict(range=[0, 35])))\n",
    "fig.show()\n"
   ]
  },
  {
   "cell_type": "code",
   "execution_count": null,
   "metadata": {},
   "outputs": [],
   "source": []
  }
 ],
 "metadata": {
  "kernelspec": {
   "display_name": "base",
   "language": "python",
   "name": "python3"
  },
  "language_info": {
   "codemirror_mode": {
    "name": "ipython",
    "version": 3
   },
   "file_extension": ".py",
   "mimetype": "text/x-python",
   "name": "python",
   "nbconvert_exporter": "python",
   "pygments_lexer": "ipython3",
   "version": "3.9.12"
  },
  "orig_nbformat": 4
 },
 "nbformat": 4,
 "nbformat_minor": 2
}
