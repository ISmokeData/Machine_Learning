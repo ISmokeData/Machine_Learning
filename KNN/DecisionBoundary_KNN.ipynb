{
 "cells": [
  {
   "cell_type": "markdown",
   "metadata": {},
   "source": [
    "### **Creating Meshgrid**"
   ]
  },
  {
   "cell_type": "code",
   "execution_count": 18,
   "metadata": {},
   "outputs": [],
   "source": [
    "import numpy as np\n",
    "import pandas as pd\n",
    "import matplotlib.pyplot as plt\n",
    "from sklearn.model_selection import train_test_split\n",
    "from sklearn.preprocessing import StandardScaler\n",
    "from sklearn.neighbors import KNeighborsClassifier"
   ]
  },
  {
   "cell_type": "code",
   "execution_count": 2,
   "metadata": {},
   "outputs": [
    {
     "name": "stdout",
     "output_type": "stream",
     "text": [
      "[[1 2 3]\n",
      " [1 2 3]\n",
      " [1 2 3]\n",
      " [1 2 3]]\n",
      "[[4 4 4]\n",
      " [5 5 5]\n",
      " [6 6 6]\n",
      " [7 7 7]]\n"
     ]
    }
   ],
   "source": [
    "x = np.array([1,2,3])\n",
    "y = np.array([4,5,6,7])\n",
    "\n",
    "xx , yy = np.meshgrid(x,y)\n",
    "\n",
    "print(xx)\n",
    "print(yy)"
   ]
  },
  {
   "cell_type": "markdown",
   "metadata": {},
   "source": [
    "**Purpose of Meshgrid**\n",
    "\n",
    "Meshgrid is very useful to evaluate functions on a grid. We can apply any function to the points of a meshgrid to plot a function\n",
    "\n",
    "\n",
    "### **Plotting a function using Meshgrid**"
   ]
  },
  {
   "cell_type": "code",
   "execution_count": 4,
   "metadata": {},
   "outputs": [
    {
     "name": "stdout",
     "output_type": "stream",
     "text": [
      "(90, 100)\n",
      "(90, 100)\n"
     ]
    }
   ],
   "source": [
    "x = np.linspace(-40, 40, 100)\n",
    "y = np.linspace(-50, 50, 90)\n",
    "\n",
    "xx, yy = np.meshgrid(x,y)\n",
    "\n",
    "print(xx.shape)\n",
    "print(yy.shape)"
   ]
  },
  {
   "cell_type": "code",
   "execution_count": 11,
   "metadata": {},
   "outputs": [
    {
     "data": {
      "text/plain": [
       "<matplotlib.contour.QuadContourSet at 0x214b68aaf90>"
      ]
     },
     "execution_count": 11,
     "metadata": {},
     "output_type": "execute_result"
    },
    {
     "data": {
      "image/png": "[encoded data removed]",
      "text/plain": [
       "<Figure size 640x480 with 1 Axes>"
      ]
     },
     "metadata": {},
     "output_type": "display_data"
    }
   ],
   "source": [
    "z = (xx ** 2) + (yy ** 2)\n",
    "plt.contourf(xx,yy,z)"
   ]
  },
  {
   "cell_type": "code",
   "execution_count": 4,
   "metadata": {},
   "outputs": [
    {
     "data": {
      "text/html": [
       "<div>\n",
       "<style scoped>\n",
       "    .dataframe tbody tr th:only-of-type {\n",
       "        vertical-align: middle;\n",
       "    }\n",
       "\n",
       "    .dataframe tbody tr th {\n",
       "        vertical-align: top;\n",
       "    }\n",
       "\n",
       "    .dataframe thead th {\n",
       "        text-align: right;\n",
       "    }\n",
       "</style>\n",
       "<table border=\"1\" class=\"dataframe\">\n",
       "  <thead>\n",
       "    <tr style=\"text-align: right;\">\n",
       "      <th></th>\n",
       "      <th>User ID</th>\n",
       "      <th>Gender</th>\n",
       "      <th>Age</th>\n",
       "      <th>EstimatedSalary</th>\n",
       "      <th>Purchased</th>\n",
       "    </tr>\n",
       "  </thead>\n",
       "  <tbody>\n",
       "    <tr>\n",
       "      <th>0</th>\n",
       "      <td>15624510</td>\n",
       "      <td>Male</td>\n",
       "      <td>19</td>\n",
       "      <td>19000</td>\n",
       "      <td>0</td>\n",
       "    </tr>\n",
       "    <tr>\n",
       "      <th>1</th>\n",
       "      <td>15810944</td>\n",
       "      <td>Male</td>\n",
       "      <td>35</td>\n",
       "      <td>20000</td>\n",
       "      <td>0</td>\n",
       "    </tr>\n",
       "    <tr>\n",
       "      <th>2</th>\n",
       "      <td>15668575</td>\n",
       "      <td>Female</td>\n",
       "      <td>26</td>\n",
       "      <td>43000</td>\n",
       "      <td>0</td>\n",
       "    </tr>\n",
       "    <tr>\n",
       "      <th>3</th>\n",
       "      <td>15603246</td>\n",
       "      <td>Female</td>\n",
       "      <td>27</td>\n",
       "      <td>57000</td>\n",
       "      <td>0</td>\n",
       "    </tr>\n",
       "    <tr>\n",
       "      <th>4</th>\n",
       "      <td>15804002</td>\n",
       "      <td>Male</td>\n",
       "      <td>19</td>\n",
       "      <td>76000</td>\n",
       "      <td>0</td>\n",
       "    </tr>\n",
       "  </tbody>\n",
       "</table>\n",
       "</div>"
      ],
      "text/plain": [
       "    User ID  Gender  Age  EstimatedSalary  Purchased\n",
       "0  15624510    Male   19            19000          0\n",
       "1  15810944    Male   35            20000          0\n",
       "2  15668575  Female   26            43000          0\n",
       "3  15603246  Female   27            57000          0\n",
       "4  15804002    Male   19            76000          0"
      ]
     },
     "execution_count": 4,
     "metadata": {},
     "output_type": "execute_result"
    }
   ],
   "source": [
    "df = pd.read_csv('KNN_Scratch/Social_Network_Ads.csv')\n",
    "df.head()"
   ]
  },
  {
   "cell_type": "code",
   "execution_count": 5,
   "metadata": {},
   "outputs": [
    {
     "data": {
      "text/html": [
       "<div>\n",
       "<style scoped>\n",
       "    .dataframe tbody tr th:only-of-type {\n",
       "        vertical-align: middle;\n",
       "    }\n",
       "\n",
       "    .dataframe tbody tr th {\n",
       "        vertical-align: top;\n",
       "    }\n",
       "\n",
       "    .dataframe thead th {\n",
       "        text-align: right;\n",
       "    }\n",
       "</style>\n",
       "<table border=\"1\" class=\"dataframe\">\n",
       "  <thead>\n",
       "    <tr style=\"text-align: right;\">\n",
       "      <th></th>\n",
       "      <th>Age</th>\n",
       "      <th>EstimatedSalary</th>\n",
       "      <th>Purchased</th>\n",
       "    </tr>\n",
       "  </thead>\n",
       "  <tbody>\n",
       "    <tr>\n",
       "      <th>0</th>\n",
       "      <td>19</td>\n",
       "      <td>19000</td>\n",
       "      <td>0</td>\n",
       "    </tr>\n",
       "    <tr>\n",
       "      <th>1</th>\n",
       "      <td>35</td>\n",
       "      <td>20000</td>\n",
       "      <td>0</td>\n",
       "    </tr>\n",
       "    <tr>\n",
       "      <th>2</th>\n",
       "      <td>26</td>\n",
       "      <td>43000</td>\n",
       "      <td>0</td>\n",
       "    </tr>\n",
       "    <tr>\n",
       "      <th>3</th>\n",
       "      <td>27</td>\n",
       "      <td>57000</td>\n",
       "      <td>0</td>\n",
       "    </tr>\n",
       "    <tr>\n",
       "      <th>4</th>\n",
       "      <td>19</td>\n",
       "      <td>76000</td>\n",
       "      <td>0</td>\n",
       "    </tr>\n",
       "  </tbody>\n",
       "</table>\n",
       "</div>"
      ],
      "text/plain": [
       "   Age  EstimatedSalary  Purchased\n",
       "0   19            19000          0\n",
       "1   35            20000          0\n",
       "2   26            43000          0\n",
       "3   27            57000          0\n",
       "4   19            76000          0"
      ]
     },
     "execution_count": 5,
     "metadata": {},
     "output_type": "execute_result"
    }
   ],
   "source": [
    "df.drop(columns= ['User ID', 'Gender'],inplace=True)\n",
    "df.head()"
   ]
  },
  {
   "cell_type": "code",
   "execution_count": 6,
   "metadata": {},
   "outputs": [
    {
     "data": {
      "text/html": [
       "<div>\n",
       "<style scoped>\n",
       "    .dataframe tbody tr th:only-of-type {\n",
       "        vertical-align: middle;\n",
       "    }\n",
       "\n",
       "    .dataframe tbody tr th {\n",
       "        vertical-align: top;\n",
       "    }\n",
       "\n",
       "    .dataframe thead th {\n",
       "        text-align: right;\n",
       "    }\n",
       "</style>\n",
       "<table border=\"1\" class=\"dataframe\">\n",
       "  <thead>\n",
       "    <tr style=\"text-align: right;\">\n",
       "      <th></th>\n",
       "      <th>Age</th>\n",
       "      <th>EstimatedSalary</th>\n",
       "    </tr>\n",
       "  </thead>\n",
       "  <tbody>\n",
       "    <tr>\n",
       "      <th>0</th>\n",
       "      <td>19</td>\n",
       "      <td>19000</td>\n",
       "    </tr>\n",
       "    <tr>\n",
       "      <th>1</th>\n",
       "      <td>35</td>\n",
       "      <td>20000</td>\n",
       "    </tr>\n",
       "    <tr>\n",
       "      <th>2</th>\n",
       "      <td>26</td>\n",
       "      <td>43000</td>\n",
       "    </tr>\n",
       "    <tr>\n",
       "      <th>3</th>\n",
       "      <td>27</td>\n",
       "      <td>57000</td>\n",
       "    </tr>\n",
       "    <tr>\n",
       "      <th>4</th>\n",
       "      <td>19</td>\n",
       "      <td>76000</td>\n",
       "    </tr>\n",
       "  </tbody>\n",
       "</table>\n",
       "</div>"
      ],
      "text/plain": [
       "   Age  EstimatedSalary\n",
       "0   19            19000\n",
       "1   35            20000\n",
       "2   26            43000\n",
       "3   27            57000\n",
       "4   19            76000"
      ]
     },
     "execution_count": 6,
     "metadata": {},
     "output_type": "execute_result"
    }
   ],
   "source": [
    "X = df.iloc[:,:2]\n",
    "X.head()"
   ]
  },
  {
   "cell_type": "code",
   "execution_count": 7,
   "metadata": {},
   "outputs": [
    {
     "data": {
      "text/plain": [
       "0    0\n",
       "1    0\n",
       "2    0\n",
       "3    0\n",
       "4    0\n",
       "Name: Purchased, dtype: int64"
      ]
     },
     "execution_count": 7,
     "metadata": {},
     "output_type": "execute_result"
    }
   ],
   "source": [
    "y = df.iloc[:,-1]\n",
    "y.head()"
   ]
  },
  {
   "cell_type": "code",
   "execution_count": 8,
   "metadata": {},
   "outputs": [
    {
     "name": "stdout",
     "output_type": "stream",
     "text": [
      "[[-1.78179743 -1.49004624]\n",
      " [-0.25358736 -1.46068138]\n",
      " [-1.11320552 -0.78528968]\n",
      " [-1.01769239 -0.37418169]\n",
      " [-1.78179743  0.18375059]\n",
      " [-1.01769239 -0.34481683]\n",
      " [-1.01769239  0.41866944]\n",
      " [-0.54012675  2.35674998]\n",
      " [-1.20871865 -1.07893824]\n",
      " [-0.25358736 -0.13926283]\n",
      " [-1.11320552  0.30121002]\n",
      " [-1.11320552 -0.52100597]\n",
      " [-1.6862843   0.47739916]\n",
      " [-0.54012675 -1.51941109]\n",
      " [-1.87731056  0.35993973]\n",
      " [-0.82666613  0.30121002]\n",
      " [ 0.89257019 -1.3138571 ]\n",
      " [ 0.70154394 -1.28449224]\n",
      " [ 0.79705706 -1.22576253]\n",
      " [ 0.98808332 -1.19639767]\n",
      " [ 0.70154394 -1.40195167]\n",
      " [ 0.89257019 -0.60910054]\n",
      " [ 0.98808332 -0.84401939]\n",
      " [ 0.70154394 -1.40195167]\n",
      " [ 0.79705706 -1.37258681]\n",
      " [ 0.89257019 -1.46068138]\n",
      " [ 1.08359645 -1.22576253]\n",
      " [ 0.89257019 -1.16703281]\n",
      " [-0.82666613 -0.78528968]\n",
      " [-0.63563988 -1.51941109]\n",
      " [-0.63563988  0.12502088]\n",
      " [-1.01769239  1.97500684]\n",
      " [-1.59077117 -1.5781408 ]\n",
      " [-0.92217926 -0.75592482]\n",
      " [-1.01769239  0.59485858]\n",
      " [-0.25358736 -1.25512738]\n",
      " [-0.44461362 -1.22576253]\n",
      " [-0.73115301 -0.60910054]\n",
      " [-1.11320552  0.06629116]\n",
      " [-1.01769239 -1.13766796]\n",
      " [-1.01769239 -1.54877595]\n",
      " [-0.44461362 -0.55037082]\n",
      " [-0.25358736  1.123426  ]\n",
      " [-0.73115301 -1.60750566]\n",
      " [-0.92217926  0.41866944]\n",
      " [-1.39974491 -1.46068138]\n",
      " [-1.20871865  0.27184516]\n",
      " [-1.01769239 -0.46227625]\n",
      " [-0.73115301  1.91627713]\n",
      " [-0.63563988  0.56549373]\n",
      " [-1.30423178 -1.1083031 ]\n",
      " [-1.87731056 -0.75592482]\n",
      " [-0.82666613  0.38930459]\n",
      " [-0.25358736 -1.37258681]\n",
      " [-1.01769239 -0.34481683]\n",
      " [-1.30423178 -0.4329114 ]\n",
      " [-1.39974491 -0.63846539]\n",
      " [-0.92217926  0.27184516]\n",
      " [-1.49525804 -1.51941109]\n",
      " [-0.54012675  1.38770971]\n",
      " [-1.01769239 -1.46068138]\n",
      " [-1.20871865  0.50676401]\n",
      " [-1.39974491 -0.10989798]\n",
      " [-0.54012675  1.47580428]\n",
      " [ 2.03872775  0.38930459]\n",
      " [-1.30423178 -0.34481683]\n",
      " [-1.30423178 -1.49004624]\n",
      " [-1.39974491  0.35993973]\n",
      " [-1.49525804 -0.19799255]\n",
      " [-0.63563988 -0.05116826]\n",
      " [-1.20871865  0.30121002]\n",
      " [-1.30423178 -1.25512738]\n",
      " [-1.6862843  -1.37258681]\n",
      " [-0.44461362  1.27025028]\n",
      " [-0.54012675 -1.51941109]\n",
      " [-0.34910049  1.24088543]\n",
      " [-1.87731056 -0.52100597]\n",
      " [-1.49525804 -1.25512738]\n",
      " [-0.92217926  0.50676401]\n",
      " [-1.11320552 -1.54877595]\n",
      " [-0.73115301  0.30121002]\n",
      " [ 0.12846516 -0.81465453]\n",
      " [-1.6862843  -0.60910054]\n",
      " [-0.25358736  0.53612887]\n",
      " [-0.73115301 -0.2273574 ]\n",
      " [-0.63563988  1.41707457]\n",
      " [-1.30423178 -0.4329114 ]\n",
      " [-0.92217926  0.4480343 ]\n",
      " [-1.11320552  0.33057487]\n",
      " [-0.25358736 -0.57973568]\n",
      " [-1.49525804  0.33057487]\n",
      " [-0.73115301  1.35834485]\n",
      " [-1.11320552 -1.60750566]\n",
      " [-0.82666613 -1.22576253]\n",
      " [-0.82666613  0.38930459]\n",
      " [-0.25358736 -0.75592482]\n",
      " [-0.25358736 -1.3138571 ]\n",
      " [-0.92217926  1.56389885]\n",
      " [-0.25358736  0.09565602]\n",
      " [-0.92217926 -0.96147882]\n",
      " [-1.01769239  0.53612887]\n",
      " [-0.92217926 -0.31545197]\n",
      " [-0.54012675  0.47739916]\n",
      " [-0.44461362  2.32738512]\n",
      " [-1.78179743 -1.43131652]\n",
      " [-1.59077117  0.06629116]\n",
      " [-1.11320552 -1.02020853]\n",
      " [-1.01769239  0.56549373]\n",
      " [-1.11320552  0.47739916]\n",
      " [ 0.03295203  0.30121002]\n",
      " [ 0.12846516  0.03692631]\n",
      " [-0.0625611   0.03692631]\n",
      " [ 0.03295203 -0.25672226]\n",
      " [-0.0625611  -0.4329114 ]\n",
      " [ 0.41500455  0.30121002]\n",
      " [ 0.22397829 -0.37418169]\n",
      " [-0.25358736  0.15438573]\n",
      " [-0.15807423 -0.52100597]\n",
      " [ 0.22397829 -0.31545197]\n",
      " [ 0.31949142 -0.31545197]\n",
      " [-0.15807423  0.15438573]\n",
      " [-0.0625611   0.06629116]\n",
      " [ 0.22397829  0.15438573]\n",
      " [-0.25358736 -0.49164111]\n",
      " [ 0.31949142 -0.55037082]\n",
      " [ 0.12846516 -0.25672226]\n",
      " [ 0.41500455 -0.13926283]\n",
      " [-1.11320552 -1.1083031 ]\n",
      " [-0.73115301 -1.54877595]\n",
      " [-1.11320552  0.41866944]\n",
      " [-0.63563988 -0.34481683]\n",
      " [-0.44461362 -1.13766796]\n",
      " [-0.73115301  0.50676401]\n",
      " [-1.59077117 -0.05116826]\n",
      " [-0.92217926 -0.4329114 ]\n",
      " [-1.39974491 -0.19799255]\n",
      " [-1.6862843   0.35993973]\n",
      " [-0.73115301  1.09406114]\n",
      " [-0.92217926 -0.31545197]\n",
      " [-1.78179743 -1.3138571 ]\n",
      " [-1.78179743  0.4480343 ]\n",
      " [-1.87731056 -0.05116826]\n",
      " [-0.25358736 -0.31545197]\n",
      " [-0.73115301  0.56549373]\n",
      " [-0.34910049 -1.3138571 ]\n",
      " [-1.30423178  0.56549373]\n",
      " [-1.01769239  0.77104772]\n",
      " [ 0.31949142 -1.16703281]\n",
      " [-0.82666613 -0.25672226]\n",
      " [-1.6862843   0.12502088]\n",
      " [-1.11320552 -1.60750566]\n",
      " [ 0.31949142 -0.72655996]\n",
      " [-0.63563988  0.18375059]\n",
      " [-0.15807423 -0.57973568]\n",
      " [ 0.22397829 -0.66783025]\n",
      " [-0.63563988 -1.60750566]\n",
      " [ 0.79705706 -0.31545197]\n",
      " [-0.82666613  0.15438573]\n",
      " [-1.11320552 -1.16703281]\n",
      " [-0.54012675  1.91627713]\n",
      " [-0.54012675  0.88850715]\n",
      " [-1.20871865  0.59485858]\n",
      " [-0.0625611  -1.07893824]\n",
      " [-0.25358736 -0.93211396]\n",
      " [-0.44461362 -0.02180341]\n",
      " [-1.87731056  0.47739916]\n",
      " [-1.49525804 -0.4329114 ]\n",
      " [-0.25358736  0.03692631]\n",
      " [-0.82666613  2.29802026]\n",
      " [-0.82666613 -0.66783025]\n",
      " [-1.59077117  0.53612887]\n",
      " [-0.34910049  1.32898   ]\n",
      " [-1.11320552  1.41707457]\n",
      " [-0.34910049 -0.78528968]\n",
      " [-0.34910049  0.06629116]\n",
      " [-1.39974491 -1.22576253]\n",
      " [-0.25358736 -0.66783025]\n",
      " [-1.20871865 -1.40195167]\n",
      " [-1.30423178 -1.37258681]\n",
      " [-0.63563988 -1.04957339]\n",
      " [-1.11320552 -1.5781408 ]\n",
      " [-0.63563988  0.03692631]\n",
      " [-0.54012675  1.38770971]\n",
      " [-0.44461362 -0.78528968]\n",
      " [-0.44461362 -0.28608712]\n",
      " [-0.63563988 -0.10989798]\n",
      " [-1.6862843   0.35993973]\n",
      " [-0.44461362 -0.84401939]\n",
      " [-0.25358736  0.06629116]\n",
      " [-0.92217926 -1.1083031 ]\n",
      " [-1.30423178  0.41866944]\n",
      " [-1.78179743 -1.28449224]\n",
      " [-0.82666613 -0.78528968]\n",
      " [-1.78179743  0.00756145]\n",
      " [-0.92217926  0.56549373]\n",
      " [-0.34910049 -0.78528968]\n",
      " [-0.73115301  0.27184516]\n",
      " [-1.6862843  -0.99084367]\n",
      " [-1.11320552  0.30121002]\n",
      " [-0.25358736 -1.40195167]\n",
      " [-0.25358736 -0.9027491 ]\n",
      " [ 1.08359645  0.12502088]\n",
      " [ 0.12846516  1.88691227]\n",
      " [ 0.31949142  0.03692631]\n",
      " [ 1.94321462  0.917872  ]\n",
      " [ 0.89257019 -0.66783025]\n",
      " [ 1.65667523  1.76945285]\n",
      " [ 1.37013584  1.29961514]\n",
      " [ 0.22397829  2.12183112]\n",
      " [ 0.79705706 -1.40195167]\n",
      " [ 0.98808332  0.77104772]\n",
      " [ 1.37013584  2.35674998]\n",
      " [ 2.03872775 -0.81465453]\n",
      " [-0.25358736 -0.34481683]\n",
      " [ 0.89257019 -0.78528968]\n",
      " [ 2.13424088  1.123426  ]\n",
      " [ 1.08359645 -0.13926283]\n",
      " [ 0.22397829  0.2424803 ]\n",
      " [ 0.79705706  0.77104772]\n",
      " [ 2.03872775  2.15119598]\n",
      " [ 0.31949142  0.30121002]\n",
      " [-0.25358736  0.62422344]\n",
      " [-0.0625611   2.18056084]\n",
      " [ 2.13424088  0.94723686]\n",
      " [-0.25358736 -0.28608712]\n",
      " [-0.0625611  -0.49164111]\n",
      " [-0.15807423  1.65199342]\n",
      " [ 1.75218836  1.85754742]\n",
      " [ 0.22397829  0.06629116]\n",
      " [ 0.41500455  0.30121002]\n",
      " [-0.25358736  2.26865541]\n",
      " [ 0.12846516 -0.81465453]\n",
      " [ 0.22397829  1.09406114]\n",
      " [ 1.08359645  0.47739916]\n",
      " [ 0.03295203  1.24088543]\n",
      " [ 0.79705706  0.27184516]\n",
      " [ 0.22397829 -0.37418169]\n",
      " [-0.0625611   0.30121002]\n",
      " [ 0.79705706  0.35993973]\n",
      " [ 1.46564897  2.15119598]\n",
      " [ 0.41500455  2.32738512]\n",
      " [ 0.03295203 -0.31545197]\n",
      " [ 1.17910958  0.53612887]\n",
      " [ 1.75218836  1.00596657]\n",
      " [ 0.31949142  0.06629116]\n",
      " [ 1.27462271  2.23929055]\n",
      " [-0.25358736 -0.57973568]\n",
      " [ 1.84770149  1.53453399]\n",
      " [ 0.31949142 -0.52100597]\n",
      " [-0.25358736  0.80041258]\n",
      " [ 0.60603081 -0.9027491 ]\n",
      " [-0.0625611  -0.52100597]\n",
      " [ 0.98808332  1.88691227]\n",
      " [-0.0625611   2.23929055]\n",
      " [ 1.17910958 -0.75592482]\n",
      " [ 1.37013584  0.59485858]\n",
      " [ 0.31949142  0.06629116]\n",
      " [ 0.22397829 -0.37418169]\n",
      " [ 1.94321462  0.74168287]\n",
      " [ 0.70154394  1.7988177 ]\n",
      " [-0.25358736  0.21311545]\n",
      " [-0.15807423  2.18056084]\n",
      " [ 1.65667523  1.62262856]\n",
      " [-0.25358736  0.06629116]\n",
      " [ 0.98808332  0.59485858]\n",
      " [ 0.41500455  1.123426  ]\n",
      " [ 0.22397829  0.15438573]\n",
      " [-0.0625611   0.12502088]\n",
      " [ 0.89257019  2.18056084]\n",
      " [ 0.22397829 -0.25672226]\n",
      " [ 0.51051768  1.85754742]\n",
      " [ 2.03872775  0.18375059]\n",
      " [ 2.13424088 -0.81465453]\n",
      " [ 0.12846516  1.06469629]\n",
      " [ 1.84770149 -1.28449224]\n",
      " [ 1.84770149  0.12502088]\n",
      " [ 0.03295203  0.03692631]\n",
      " [ 1.08359645  0.53612887]\n",
      " [ 1.37013584 -0.93211396]\n",
      " [ 1.17910958 -0.99084367]\n",
      " [ 2.03872775  0.53612887]\n",
      " [-0.25358736 -0.25672226]\n",
      " [-0.0625611   0.00756145]\n",
      " [ 1.37013584 -1.43131652]\n",
      " [ 0.98808332  2.09246627]\n",
      " [-0.0625611   0.68295315]\n",
      " [-0.0625611  -0.2273574 ]\n",
      " [ 0.98808332  2.0043717 ]\n",
      " [ 0.31949142  0.27184516]\n",
      " [-0.0625611   0.2424803 ]\n",
      " [ 0.12846516  1.88691227]\n",
      " [ 1.08359645  0.56549373]\n",
      " [ 1.65667523 -0.9027491 ]\n",
      " [-0.0625611   0.21311545]\n",
      " [-0.25358736 -0.37418169]\n",
      " [-0.15807423 -0.19799255]\n",
      " [ 0.41500455  0.09565602]\n",
      " [ 0.51051768  1.24088543]\n",
      " [ 0.70154394  0.27184516]\n",
      " [ 0.79705706  1.38770971]\n",
      " [ 1.94321462 -0.93211396]\n",
      " [ 0.98808332  0.12502088]\n",
      " [-0.0625611   1.97500684]\n",
      " [-0.0625611   0.27184516]\n",
      " [ 0.22397829 -0.28608712]\n",
      " [ 0.41500455 -0.46227625]\n",
      " [ 1.27462271  1.88691227]\n",
      " [ 0.89257019  1.27025028]\n",
      " [-0.15807423  1.62262856]\n",
      " [ 0.03295203 -0.57973568]\n",
      " [ 0.41500455  0.00756145]\n",
      " [ 0.12846516  0.77104772]\n",
      " [ 0.03295203 -0.57973568]\n",
      " [ 1.08359645  2.09246627]\n",
      " [ 0.12846516  0.27184516]\n",
      " [ 0.12846516  0.15438573]\n",
      " [ 1.5611621   1.00596657]\n",
      " [-0.25358736 -0.4329114 ]\n",
      " [ 0.70154394 -1.1083031 ]\n",
      " [-0.15807423 -0.28608712]\n",
      " [ 1.37013584  2.0043717 ]\n",
      " [ 1.46564897  0.35993973]\n",
      " [ 0.31949142 -0.52100597]\n",
      " [ 0.98808332 -1.16703281]\n",
      " [ 0.98808332  1.7988177 ]\n",
      " [ 0.31949142 -0.28608712]\n",
      " [ 0.31949142  0.06629116]\n",
      " [ 0.41500455  0.15438573]\n",
      " [-0.15807423  1.41707457]\n",
      " [ 0.89257019  1.09406114]\n",
      " [ 0.03295203 -0.55037082]\n",
      " [ 0.98808332  1.44643942]\n",
      " [ 0.41500455 -0.13926283]\n",
      " [ 0.22397829 -0.13926283]\n",
      " [ 1.84770149 -0.28608712]\n",
      " [-0.15807423 -0.46227625]\n",
      " [ 1.94321462  2.18056084]\n",
      " [-0.25358736  0.27184516]\n",
      " [ 0.03295203 -0.4329114 ]\n",
      " [ 0.12846516  1.53453399]\n",
      " [ 1.46564897  1.00596657]\n",
      " [-0.25358736  0.15438573]\n",
      " [ 0.03295203 -0.13926283]\n",
      " [ 0.89257019 -0.55037082]\n",
      " [ 0.89257019  1.03533143]\n",
      " [ 0.31949142 -0.19799255]\n",
      " [ 1.46564897  0.06629116]\n",
      " [ 1.5611621   1.123426  ]\n",
      " [ 0.12846516  0.21311545]\n",
      " [ 0.03295203 -0.25672226]\n",
      " [ 0.03295203  1.27025028]\n",
      " [-0.0625611   0.15438573]\n",
      " [ 0.41500455  0.59485858]\n",
      " [-0.0625611  -0.37418169]\n",
      " [-0.15807423  0.85914229]\n",
      " [ 2.13424088 -1.04957339]\n",
      " [ 1.5611621   0.00756145]\n",
      " [ 0.31949142  0.06629116]\n",
      " [ 0.22397829  0.03692631]\n",
      " [ 0.41500455 -0.46227625]\n",
      " [ 0.51051768  1.74008799]\n",
      " [ 1.46564897 -1.04957339]\n",
      " [ 0.89257019 -0.57973568]\n",
      " [ 0.41500455  0.27184516]\n",
      " [ 0.41500455  1.00596657]\n",
      " [ 2.03872775 -1.19639767]\n",
      " [ 1.94321462 -0.66783025]\n",
      " [ 0.79705706  0.53612887]\n",
      " [ 0.03295203  0.03692631]\n",
      " [ 1.5611621  -1.28449224]\n",
      " [ 2.13424088 -0.69719511]\n",
      " [ 2.13424088  0.38930459]\n",
      " [ 0.12846516  0.09565602]\n",
      " [ 2.03872775  1.76945285]\n",
      " [-0.0625611   0.30121002]\n",
      " [ 0.79705706 -1.1083031 ]\n",
      " [ 0.79705706  0.12502088]\n",
      " [ 0.41500455 -0.49164111]\n",
      " [ 0.31949142  0.50676401]\n",
      " [ 1.94321462 -1.37258681]\n",
      " [ 0.41500455 -0.16862769]\n",
      " [ 0.98808332 -1.07893824]\n",
      " [ 0.60603081  2.03373655]\n",
      " [ 1.08359645 -1.22576253]\n",
      " [ 1.84770149 -1.07893824]\n",
      " [ 1.75218836 -0.28608712]\n",
      " [ 1.08359645 -0.9027491 ]\n",
      " [ 0.12846516  0.03692631]\n",
      " [ 0.89257019 -1.04957339]\n",
      " [ 0.98808332 -1.02020853]\n",
      " [ 0.98808332 -1.07893824]\n",
      " [ 0.89257019 -1.37258681]\n",
      " [ 0.70154394 -0.72655996]\n",
      " [ 2.13424088 -0.81465453]\n",
      " [ 0.12846516 -0.31545197]\n",
      " [ 0.79705706 -0.84401939]\n",
      " [ 1.27462271 -1.37258681]\n",
      " [ 1.17910958 -1.46068138]\n",
      " [-0.15807423 -1.07893824]\n",
      " [ 1.08359645 -0.99084367]]\n"
     ]
    }
   ],
   "source": [
    "scaler = StandardScaler()\n",
    "X = scaler.fit_transform(X)\n",
    "print(X)"
   ]
  },
  {
   "cell_type": "code",
   "execution_count": 9,
   "metadata": {},
   "outputs": [
    {
     "name": "stdout",
     "output_type": "stream",
     "text": [
      "(320, 2)\n",
      "(320,)\n"
     ]
    }
   ],
   "source": [
    "X_train, X_test, y_train, y_test = train_test_split(X,y, random_state=0, test_size=0.2)\n",
    "print(X_train.shape)\n",
    "print(y_train.shape)"
   ]
  },
  {
   "cell_type": "markdown",
   "metadata": {},
   "source": [
    "### **Creating a Meshgrid**"
   ]
  },
  {
   "cell_type": "code",
   "execution_count": 12,
   "metadata": {},
   "outputs": [
    {
     "data": {
      "text/plain": [
       "array([-2.87731056e+00, -2.86731056e+00, -2.85731056e+00, -2.84731056e+00,\n",
       "       -2.83731056e+00, -2.82731056e+00, -2.81731056e+00, -2.80731056e+00,\n",
       "       -2.79731056e+00, -2.78731056e+00, -2.77731056e+00, -2.76731056e+00,\n",
       "       -2.75731056e+00, -2.74731056e+00, -2.73731056e+00, -2.72731056e+00,\n",
       "       -2.71731056e+00, -2.70731056e+00, -2.69731056e+00, -2.68731056e+00,\n",
       "       -2.67731056e+00, -2.66731056e+00, -2.65731056e+00, -2.64731056e+00,\n",
       "       -2.63731056e+00, -2.62731056e+00, -2.61731056e+00, -2.60731056e+00,\n",
       "       -2.59731056e+00, -2.58731056e+00, -2.57731056e+00, -2.56731056e+00,\n",
       "       -2.55731056e+00, -2.54731056e+00, -2.53731056e+00, -2.52731056e+00,\n",
       "       -2.51731056e+00, -2.50731056e+00, -2.49731056e+00, -2.48731056e+00,\n",
       "       -2.47731056e+00, -2.46731056e+00, -2.45731056e+00, -2.44731056e+00,\n",
       "       -2.43731056e+00, -2.42731056e+00, -2.41731056e+00, -2.40731056e+00,\n",
       "       -2.39731056e+00, -2.38731056e+00, -2.37731056e+00, -2.36731056e+00,\n",
       "       -2.35731056e+00, -2.34731056e+00, -2.33731056e+00, -2.32731056e+00,\n",
       "       -2.31731056e+00, -2.30731056e+00, -2.29731056e+00, -2.28731056e+00,\n",
       "       -2.27731056e+00, -2.26731056e+00, -2.25731056e+00, -2.24731056e+00,\n",
       "       -2.23731056e+00, -2.22731056e+00, -2.21731056e+00, -2.20731056e+00,\n",
       "       -2.19731056e+00, -2.18731056e+00, -2.17731056e+00, -2.16731056e+00,\n",
       "       -2.15731056e+00, -2.14731056e+00, -2.13731056e+00, -2.12731056e+00,\n",
       "       -2.11731056e+00, -2.10731056e+00, -2.09731056e+00, -2.08731056e+00,\n",
       "       -2.07731056e+00, -2.06731056e+00, -2.05731056e+00, -2.04731056e+00,\n",
       "       -2.03731056e+00, -2.02731056e+00, -2.01731056e+00, -2.00731056e+00,\n",
       "       -1.99731056e+00, -1.98731056e+00, -1.97731056e+00, -1.96731056e+00,\n",
       "       -1.95731056e+00, -1.94731056e+00, -1.93731056e+00, -1.92731056e+00,\n",
       "       -1.91731056e+00, -1.90731056e+00, -1.89731056e+00, -1.88731056e+00,\n",
       "       -1.87731056e+00, -1.86731056e+00, -1.85731056e+00, -1.84731056e+00,\n",
       "       -1.83731056e+00, -1.82731056e+00, -1.81731056e+00, -1.80731056e+00,\n",
       "       -1.79731056e+00, -1.78731056e+00, -1.77731056e+00, -1.76731056e+00,\n",
       "       -1.75731056e+00, -1.74731056e+00, -1.73731056e+00, -1.72731056e+00,\n",
       "       -1.71731056e+00, -1.70731056e+00, -1.69731056e+00, -1.68731056e+00,\n",
       "       -1.67731056e+00, -1.66731056e+00, -1.65731056e+00, -1.64731056e+00,\n",
       "       -1.63731056e+00, -1.62731056e+00, -1.61731056e+00, -1.60731056e+00,\n",
       "       -1.59731056e+00, -1.58731056e+00, -1.57731056e+00, -1.56731056e+00,\n",
       "       -1.55731056e+00, -1.54731056e+00, -1.53731056e+00, -1.52731056e+00,\n",
       "       -1.51731056e+00, -1.50731056e+00, -1.49731056e+00, -1.48731056e+00,\n",
       "       -1.47731056e+00, -1.46731056e+00, -1.45731056e+00, -1.44731056e+00,\n",
       "       -1.43731056e+00, -1.42731056e+00, -1.41731056e+00, -1.40731056e+00,\n",
       "       -1.39731056e+00, -1.38731056e+00, -1.37731056e+00, -1.36731056e+00,\n",
       "       -1.35731056e+00, -1.34731056e+00, -1.33731056e+00, -1.32731056e+00,\n",
       "       -1.31731056e+00, -1.30731056e+00, -1.29731056e+00, -1.28731056e+00,\n",
       "       -1.27731056e+00, -1.26731056e+00, -1.25731056e+00, -1.24731056e+00,\n",
       "       -1.23731056e+00, -1.22731056e+00, -1.21731056e+00, -1.20731056e+00,\n",
       "       -1.19731056e+00, -1.18731056e+00, -1.17731056e+00, -1.16731056e+00,\n",
       "       -1.15731056e+00, -1.14731056e+00, -1.13731056e+00, -1.12731056e+00,\n",
       "       -1.11731056e+00, -1.10731056e+00, -1.09731056e+00, -1.08731056e+00,\n",
       "       -1.07731056e+00, -1.06731056e+00, -1.05731056e+00, -1.04731056e+00,\n",
       "       -1.03731056e+00, -1.02731056e+00, -1.01731056e+00, -1.00731056e+00,\n",
       "       -9.97310558e-01, -9.87310558e-01, -9.77310558e-01, -9.67310558e-01,\n",
       "       -9.57310558e-01, -9.47310558e-01, -9.37310558e-01, -9.27310558e-01,\n",
       "       -9.17310558e-01, -9.07310558e-01, -8.97310558e-01, -8.87310558e-01,\n",
       "       -8.77310558e-01, -8.67310558e-01, -8.57310558e-01, -8.47310558e-01,\n",
       "       -8.37310558e-01, -8.27310558e-01, -8.17310558e-01, -8.07310558e-01,\n",
       "       -7.97310558e-01, -7.87310558e-01, -7.77310558e-01, -7.67310558e-01,\n",
       "       -7.57310558e-01, -7.47310558e-01, -7.37310558e-01, -7.27310558e-01,\n",
       "       -7.17310558e-01, -7.07310558e-01, -6.97310558e-01, -6.87310558e-01,\n",
       "       -6.77310558e-01, -6.67310558e-01, -6.57310558e-01, -6.47310558e-01,\n",
       "       -6.37310558e-01, -6.27310558e-01, -6.17310558e-01, -6.07310558e-01,\n",
       "       -5.97310558e-01, -5.87310558e-01, -5.77310558e-01, -5.67310558e-01,\n",
       "       -5.57310558e-01, -5.47310558e-01, -5.37310558e-01, -5.27310558e-01,\n",
       "       -5.17310558e-01, -5.07310558e-01, -4.97310558e-01, -4.87310558e-01,\n",
       "       -4.77310558e-01, -4.67310558e-01, -4.57310558e-01, -4.47310558e-01,\n",
       "       -4.37310558e-01, -4.27310558e-01, -4.17310558e-01, -4.07310558e-01,\n",
       "       -3.97310558e-01, -3.87310558e-01, -3.77310558e-01, -3.67310558e-01,\n",
       "       -3.57310558e-01, -3.47310558e-01, -3.37310558e-01, -3.27310558e-01,\n",
       "       -3.17310558e-01, -3.07310558e-01, -2.97310558e-01, -2.87310558e-01,\n",
       "       -2.77310558e-01, -2.67310558e-01, -2.57310558e-01, -2.47310558e-01,\n",
       "       -2.37310558e-01, -2.27310558e-01, -2.17310558e-01, -2.07310558e-01,\n",
       "       -1.97310558e-01, -1.87310558e-01, -1.77310558e-01, -1.67310558e-01,\n",
       "       -1.57310558e-01, -1.47310558e-01, -1.37310558e-01, -1.27310558e-01,\n",
       "       -1.17310558e-01, -1.07310558e-01, -9.73105578e-02, -8.73105578e-02,\n",
       "       -7.73105578e-02, -6.73105578e-02, -5.73105578e-02, -4.73105578e-02,\n",
       "       -3.73105578e-02, -2.73105578e-02, -1.73105578e-02, -7.31055783e-03,\n",
       "        2.68944217e-03,  1.26894422e-02,  2.26894422e-02,  3.26894422e-02,\n",
       "        4.26894422e-02,  5.26894422e-02,  6.26894422e-02,  7.26894422e-02,\n",
       "        8.26894422e-02,  9.26894422e-02,  1.02689442e-01,  1.12689442e-01,\n",
       "        1.22689442e-01,  1.32689442e-01,  1.42689442e-01,  1.52689442e-01,\n",
       "        1.62689442e-01,  1.72689442e-01,  1.82689442e-01,  1.92689442e-01,\n",
       "        2.02689442e-01,  2.12689442e-01,  2.22689442e-01,  2.32689442e-01,\n",
       "        2.42689442e-01,  2.52689442e-01,  2.62689442e-01,  2.72689442e-01,\n",
       "        2.82689442e-01,  2.92689442e-01,  3.02689442e-01,  3.12689442e-01,\n",
       "        3.22689442e-01,  3.32689442e-01,  3.42689442e-01,  3.52689442e-01,\n",
       "        3.62689442e-01,  3.72689442e-01,  3.82689442e-01,  3.92689442e-01,\n",
       "        4.02689442e-01,  4.12689442e-01,  4.22689442e-01,  4.32689442e-01,\n",
       "        4.42689442e-01,  4.52689442e-01,  4.62689442e-01,  4.72689442e-01,\n",
       "        4.82689442e-01,  4.92689442e-01,  5.02689442e-01,  5.12689442e-01,\n",
       "        5.22689442e-01,  5.32689442e-01,  5.42689442e-01,  5.52689442e-01,\n",
       "        5.62689442e-01,  5.72689442e-01,  5.82689442e-01,  5.92689442e-01,\n",
       "        6.02689442e-01,  6.12689442e-01,  6.22689442e-01,  6.32689442e-01,\n",
       "        6.42689442e-01,  6.52689442e-01,  6.62689442e-01,  6.72689442e-01,\n",
       "        6.82689442e-01,  6.92689442e-01,  7.02689442e-01,  7.12689442e-01,\n",
       "        7.22689442e-01,  7.32689442e-01,  7.42689442e-01,  7.52689442e-01,\n",
       "        7.62689442e-01,  7.72689442e-01,  7.82689442e-01,  7.92689442e-01,\n",
       "        8.02689442e-01,  8.12689442e-01,  8.22689442e-01,  8.32689442e-01,\n",
       "        8.42689442e-01,  8.52689442e-01,  8.62689442e-01,  8.72689442e-01,\n",
       "        8.82689442e-01,  8.92689442e-01,  9.02689442e-01,  9.12689442e-01,\n",
       "        9.22689442e-01,  9.32689442e-01,  9.42689442e-01,  9.52689442e-01,\n",
       "        9.62689442e-01,  9.72689442e-01,  9.82689442e-01,  9.92689442e-01,\n",
       "        1.00268944e+00,  1.01268944e+00,  1.02268944e+00,  1.03268944e+00,\n",
       "        1.04268944e+00,  1.05268944e+00,  1.06268944e+00,  1.07268944e+00,\n",
       "        1.08268944e+00,  1.09268944e+00,  1.10268944e+00,  1.11268944e+00,\n",
       "        1.12268944e+00,  1.13268944e+00,  1.14268944e+00,  1.15268944e+00,\n",
       "        1.16268944e+00,  1.17268944e+00,  1.18268944e+00,  1.19268944e+00,\n",
       "        1.20268944e+00,  1.21268944e+00,  1.22268944e+00,  1.23268944e+00,\n",
       "        1.24268944e+00,  1.25268944e+00,  1.26268944e+00,  1.27268944e+00,\n",
       "        1.28268944e+00,  1.29268944e+00,  1.30268944e+00,  1.31268944e+00,\n",
       "        1.32268944e+00,  1.33268944e+00,  1.34268944e+00,  1.35268944e+00,\n",
       "        1.36268944e+00,  1.37268944e+00,  1.38268944e+00,  1.39268944e+00,\n",
       "        1.40268944e+00,  1.41268944e+00,  1.42268944e+00,  1.43268944e+00,\n",
       "        1.44268944e+00,  1.45268944e+00,  1.46268944e+00,  1.47268944e+00,\n",
       "        1.48268944e+00,  1.49268944e+00,  1.50268944e+00,  1.51268944e+00,\n",
       "        1.52268944e+00,  1.53268944e+00,  1.54268944e+00,  1.55268944e+00,\n",
       "        1.56268944e+00,  1.57268944e+00,  1.58268944e+00,  1.59268944e+00,\n",
       "        1.60268944e+00,  1.61268944e+00,  1.62268944e+00,  1.63268944e+00,\n",
       "        1.64268944e+00,  1.65268944e+00,  1.66268944e+00,  1.67268944e+00,\n",
       "        1.68268944e+00,  1.69268944e+00,  1.70268944e+00,  1.71268944e+00,\n",
       "        1.72268944e+00,  1.73268944e+00,  1.74268944e+00,  1.75268944e+00,\n",
       "        1.76268944e+00,  1.77268944e+00,  1.78268944e+00,  1.79268944e+00,\n",
       "        1.80268944e+00,  1.81268944e+00,  1.82268944e+00,  1.83268944e+00,\n",
       "        1.84268944e+00,  1.85268944e+00,  1.86268944e+00,  1.87268944e+00,\n",
       "        1.88268944e+00,  1.89268944e+00,  1.90268944e+00,  1.91268944e+00,\n",
       "        1.92268944e+00,  1.93268944e+00,  1.94268944e+00,  1.95268944e+00,\n",
       "        1.96268944e+00,  1.97268944e+00,  1.98268944e+00,  1.99268944e+00,\n",
       "        2.00268944e+00,  2.01268944e+00,  2.02268944e+00,  2.03268944e+00,\n",
       "        2.04268944e+00,  2.05268944e+00,  2.06268944e+00,  2.07268944e+00,\n",
       "        2.08268944e+00,  2.09268944e+00,  2.10268944e+00,  2.11268944e+00,\n",
       "        2.12268944e+00,  2.13268944e+00,  2.14268944e+00,  2.15268944e+00,\n",
       "        2.16268944e+00,  2.17268944e+00,  2.18268944e+00,  2.19268944e+00,\n",
       "        2.20268944e+00,  2.21268944e+00,  2.22268944e+00,  2.23268944e+00,\n",
       "        2.24268944e+00,  2.25268944e+00,  2.26268944e+00,  2.27268944e+00,\n",
       "        2.28268944e+00,  2.29268944e+00,  2.30268944e+00,  2.31268944e+00,\n",
       "        2.32268944e+00,  2.33268944e+00,  2.34268944e+00,  2.35268944e+00,\n",
       "        2.36268944e+00,  2.37268944e+00,  2.38268944e+00,  2.39268944e+00,\n",
       "        2.40268944e+00,  2.41268944e+00,  2.42268944e+00,  2.43268944e+00,\n",
       "        2.44268944e+00,  2.45268944e+00,  2.46268944e+00,  2.47268944e+00,\n",
       "        2.48268944e+00,  2.49268944e+00,  2.50268944e+00,  2.51268944e+00,\n",
       "        2.52268944e+00,  2.53268944e+00,  2.54268944e+00,  2.55268944e+00,\n",
       "        2.56268944e+00,  2.57268944e+00,  2.58268944e+00,  2.59268944e+00,\n",
       "        2.60268944e+00,  2.61268944e+00,  2.62268944e+00,  2.63268944e+00,\n",
       "        2.64268944e+00,  2.65268944e+00,  2.66268944e+00,  2.67268944e+00,\n",
       "        2.68268944e+00,  2.69268944e+00,  2.70268944e+00,  2.71268944e+00,\n",
       "        2.72268944e+00,  2.73268944e+00,  2.74268944e+00,  2.75268944e+00,\n",
       "        2.76268944e+00,  2.77268944e+00,  2.78268944e+00,  2.79268944e+00,\n",
       "        2.80268944e+00,  2.81268944e+00,  2.82268944e+00,  2.83268944e+00,\n",
       "        2.84268944e+00,  2.85268944e+00,  2.86268944e+00,  2.87268944e+00,\n",
       "        2.88268944e+00,  2.89268944e+00,  2.90268944e+00,  2.91268944e+00,\n",
       "        2.92268944e+00,  2.93268944e+00,  2.94268944e+00,  2.95268944e+00,\n",
       "        2.96268944e+00,  2.97268944e+00,  2.98268944e+00,  2.99268944e+00,\n",
       "        3.00268944e+00,  3.01268944e+00,  3.02268944e+00,  3.03268944e+00,\n",
       "        3.04268944e+00,  3.05268944e+00,  3.06268944e+00,  3.07268944e+00,\n",
       "        3.08268944e+00,  3.09268944e+00,  3.10268944e+00,  3.11268944e+00,\n",
       "        3.12268944e+00,  3.13268944e+00])"
      ]
     },
     "execution_count": 12,
     "metadata": {},
     "output_type": "execute_result"
    }
   ],
   "source": [
    "a = np.arange(start=X_train[:,0].min() - 1, stop=X_train[:,0].max() + 1, step=0.01)\n",
    "a"
   ]
  },
  {
   "cell_type": "code",
   "execution_count": 13,
   "metadata": {},
   "outputs": [
    {
     "data": {
      "text/plain": [
       "(602,)"
      ]
     },
     "execution_count": 13,
     "metadata": {},
     "output_type": "execute_result"
    }
   ],
   "source": [
    "a.shape"
   ]
  },
  {
   "cell_type": "code",
   "execution_count": 14,
   "metadata": {},
   "outputs": [
    {
     "data": {
      "text/plain": [
       "array([-2.60750566e+00, -2.59750566e+00, -2.58750566e+00, -2.57750566e+00,\n",
       "       -2.56750566e+00, -2.55750566e+00, -2.54750566e+00, -2.53750566e+00,\n",
       "       -2.52750566e+00, -2.51750566e+00, -2.50750566e+00, -2.49750566e+00,\n",
       "       -2.48750566e+00, -2.47750566e+00, -2.46750566e+00, -2.45750566e+00,\n",
       "       -2.44750566e+00, -2.43750566e+00, -2.42750566e+00, -2.41750566e+00,\n",
       "       -2.40750566e+00, -2.39750566e+00, -2.38750566e+00, -2.37750566e+00,\n",
       "       -2.36750566e+00, -2.35750566e+00, -2.34750566e+00, -2.33750566e+00,\n",
       "       -2.32750566e+00, -2.31750566e+00, -2.30750566e+00, -2.29750566e+00,\n",
       "       -2.28750566e+00, -2.27750566e+00, -2.26750566e+00, -2.25750566e+00,\n",
       "       -2.24750566e+00, -2.23750566e+00, -2.22750566e+00, -2.21750566e+00,\n",
       "       -2.20750566e+00, -2.19750566e+00, -2.18750566e+00, -2.17750566e+00,\n",
       "       -2.16750566e+00, -2.15750566e+00, -2.14750566e+00, -2.13750566e+00,\n",
       "       -2.12750566e+00, -2.11750566e+00, -2.10750566e+00, -2.09750566e+00,\n",
       "       -2.08750566e+00, -2.07750566e+00, -2.06750566e+00, -2.05750566e+00,\n",
       "       -2.04750566e+00, -2.03750566e+00, -2.02750566e+00, -2.01750566e+00,\n",
       "       -2.00750566e+00, -1.99750566e+00, -1.98750566e+00, -1.97750566e+00,\n",
       "       -1.96750566e+00, -1.95750566e+00, -1.94750566e+00, -1.93750566e+00,\n",
       "       -1.92750566e+00, -1.91750566e+00, -1.90750566e+00, -1.89750566e+00,\n",
       "       -1.88750566e+00, -1.87750566e+00, -1.86750566e+00, -1.85750566e+00,\n",
       "       -1.84750566e+00, -1.83750566e+00, -1.82750566e+00, -1.81750566e+00,\n",
       "       -1.80750566e+00, -1.79750566e+00, -1.78750566e+00, -1.77750566e+00,\n",
       "       -1.76750566e+00, -1.75750566e+00, -1.74750566e+00, -1.73750566e+00,\n",
       "       -1.72750566e+00, -1.71750566e+00, -1.70750566e+00, -1.69750566e+00,\n",
       "       -1.68750566e+00, -1.67750566e+00, -1.66750566e+00, -1.65750566e+00,\n",
       "       -1.64750566e+00, -1.63750566e+00, -1.62750566e+00, -1.61750566e+00,\n",
       "       -1.60750566e+00, -1.59750566e+00, -1.58750566e+00, -1.57750566e+00,\n",
       "       -1.56750566e+00, -1.55750566e+00, -1.54750566e+00, -1.53750566e+00,\n",
       "       -1.52750566e+00, -1.51750566e+00, -1.50750566e+00, -1.49750566e+00,\n",
       "       -1.48750566e+00, -1.47750566e+00, -1.46750566e+00, -1.45750566e+00,\n",
       "       -1.44750566e+00, -1.43750566e+00, -1.42750566e+00, -1.41750566e+00,\n",
       "       -1.40750566e+00, -1.39750566e+00, -1.38750566e+00, -1.37750566e+00,\n",
       "       -1.36750566e+00, -1.35750566e+00, -1.34750566e+00, -1.33750566e+00,\n",
       "       -1.32750566e+00, -1.31750566e+00, -1.30750566e+00, -1.29750566e+00,\n",
       "       -1.28750566e+00, -1.27750566e+00, -1.26750566e+00, -1.25750566e+00,\n",
       "       -1.24750566e+00, -1.23750566e+00, -1.22750566e+00, -1.21750566e+00,\n",
       "       -1.20750566e+00, -1.19750566e+00, -1.18750566e+00, -1.17750566e+00,\n",
       "       -1.16750566e+00, -1.15750566e+00, -1.14750566e+00, -1.13750566e+00,\n",
       "       -1.12750566e+00, -1.11750566e+00, -1.10750566e+00, -1.09750566e+00,\n",
       "       -1.08750566e+00, -1.07750566e+00, -1.06750566e+00, -1.05750566e+00,\n",
       "       -1.04750566e+00, -1.03750566e+00, -1.02750566e+00, -1.01750566e+00,\n",
       "       -1.00750566e+00, -9.97505662e-01, -9.87505662e-01, -9.77505662e-01,\n",
       "       -9.67505662e-01, -9.57505662e-01, -9.47505662e-01, -9.37505662e-01,\n",
       "       -9.27505662e-01, -9.17505662e-01, -9.07505662e-01, -8.97505662e-01,\n",
       "       -8.87505662e-01, -8.77505662e-01, -8.67505662e-01, -8.57505662e-01,\n",
       "       -8.47505662e-01, -8.37505662e-01, -8.27505662e-01, -8.17505662e-01,\n",
       "       -8.07505662e-01, -7.97505662e-01, -7.87505662e-01, -7.77505662e-01,\n",
       "       -7.67505662e-01, -7.57505662e-01, -7.47505662e-01, -7.37505662e-01,\n",
       "       -7.27505662e-01, -7.17505662e-01, -7.07505662e-01, -6.97505662e-01,\n",
       "       -6.87505662e-01, -6.77505662e-01, -6.67505662e-01, -6.57505662e-01,\n",
       "       -6.47505662e-01, -6.37505662e-01, -6.27505662e-01, -6.17505662e-01,\n",
       "       -6.07505662e-01, -5.97505662e-01, -5.87505662e-01, -5.77505662e-01,\n",
       "       -5.67505662e-01, -5.57505662e-01, -5.47505662e-01, -5.37505662e-01,\n",
       "       -5.27505662e-01, -5.17505662e-01, -5.07505662e-01, -4.97505662e-01,\n",
       "       -4.87505662e-01, -4.77505662e-01, -4.67505662e-01, -4.57505662e-01,\n",
       "       -4.47505662e-01, -4.37505662e-01, -4.27505662e-01, -4.17505662e-01,\n",
       "       -4.07505662e-01, -3.97505662e-01, -3.87505662e-01, -3.77505662e-01,\n",
       "       -3.67505662e-01, -3.57505662e-01, -3.47505662e-01, -3.37505662e-01,\n",
       "       -3.27505662e-01, -3.17505662e-01, -3.07505662e-01, -2.97505662e-01,\n",
       "       -2.87505662e-01, -2.77505662e-01, -2.67505662e-01, -2.57505662e-01,\n",
       "       -2.47505662e-01, -2.37505662e-01, -2.27505662e-01, -2.17505662e-01,\n",
       "       -2.07505662e-01, -1.97505662e-01, -1.87505662e-01, -1.77505662e-01,\n",
       "       -1.67505662e-01, -1.57505662e-01, -1.47505662e-01, -1.37505662e-01,\n",
       "       -1.27505662e-01, -1.17505662e-01, -1.07505662e-01, -9.75056615e-02,\n",
       "       -8.75056615e-02, -7.75056615e-02, -6.75056615e-02, -5.75056615e-02,\n",
       "       -4.75056615e-02, -3.75056615e-02, -2.75056615e-02, -1.75056615e-02,\n",
       "       -7.50566155e-03,  2.49433845e-03,  1.24943385e-02,  2.24943385e-02,\n",
       "        3.24943385e-02,  4.24943385e-02,  5.24943385e-02,  6.24943385e-02,\n",
       "        7.24943385e-02,  8.24943385e-02,  9.24943385e-02,  1.02494338e-01,\n",
       "        1.12494338e-01,  1.22494338e-01,  1.32494338e-01,  1.42494338e-01,\n",
       "        1.52494338e-01,  1.62494338e-01,  1.72494338e-01,  1.82494338e-01,\n",
       "        1.92494338e-01,  2.02494338e-01,  2.12494338e-01,  2.22494338e-01,\n",
       "        2.32494338e-01,  2.42494338e-01,  2.52494338e-01,  2.62494338e-01,\n",
       "        2.72494338e-01,  2.82494338e-01,  2.92494338e-01,  3.02494338e-01,\n",
       "        3.12494338e-01,  3.22494338e-01,  3.32494338e-01,  3.42494338e-01,\n",
       "        3.52494338e-01,  3.62494338e-01,  3.72494338e-01,  3.82494338e-01,\n",
       "        3.92494338e-01,  4.02494338e-01,  4.12494338e-01,  4.22494338e-01,\n",
       "        4.32494338e-01,  4.42494338e-01,  4.52494338e-01,  4.62494338e-01,\n",
       "        4.72494338e-01,  4.82494338e-01,  4.92494338e-01,  5.02494338e-01,\n",
       "        5.12494338e-01,  5.22494338e-01,  5.32494338e-01,  5.42494338e-01,\n",
       "        5.52494338e-01,  5.62494338e-01,  5.72494338e-01,  5.82494338e-01,\n",
       "        5.92494338e-01,  6.02494338e-01,  6.12494338e-01,  6.22494338e-01,\n",
       "        6.32494338e-01,  6.42494338e-01,  6.52494338e-01,  6.62494338e-01,\n",
       "        6.72494338e-01,  6.82494338e-01,  6.92494338e-01,  7.02494338e-01,\n",
       "        7.12494338e-01,  7.22494338e-01,  7.32494338e-01,  7.42494338e-01,\n",
       "        7.52494338e-01,  7.62494338e-01,  7.72494338e-01,  7.82494338e-01,\n",
       "        7.92494338e-01,  8.02494338e-01,  8.12494338e-01,  8.22494338e-01,\n",
       "        8.32494338e-01,  8.42494338e-01,  8.52494338e-01,  8.62494338e-01,\n",
       "        8.72494338e-01,  8.82494338e-01,  8.92494338e-01,  9.02494338e-01,\n",
       "        9.12494338e-01,  9.22494338e-01,  9.32494338e-01,  9.42494338e-01,\n",
       "        9.52494338e-01,  9.62494338e-01,  9.72494338e-01,  9.82494338e-01,\n",
       "        9.92494338e-01,  1.00249434e+00,  1.01249434e+00,  1.02249434e+00,\n",
       "        1.03249434e+00,  1.04249434e+00,  1.05249434e+00,  1.06249434e+00,\n",
       "        1.07249434e+00,  1.08249434e+00,  1.09249434e+00,  1.10249434e+00,\n",
       "        1.11249434e+00,  1.12249434e+00,  1.13249434e+00,  1.14249434e+00,\n",
       "        1.15249434e+00,  1.16249434e+00,  1.17249434e+00,  1.18249434e+00,\n",
       "        1.19249434e+00,  1.20249434e+00,  1.21249434e+00,  1.22249434e+00,\n",
       "        1.23249434e+00,  1.24249434e+00,  1.25249434e+00,  1.26249434e+00,\n",
       "        1.27249434e+00,  1.28249434e+00,  1.29249434e+00,  1.30249434e+00,\n",
       "        1.31249434e+00,  1.32249434e+00,  1.33249434e+00,  1.34249434e+00,\n",
       "        1.35249434e+00,  1.36249434e+00,  1.37249434e+00,  1.38249434e+00,\n",
       "        1.39249434e+00,  1.40249434e+00,  1.41249434e+00,  1.42249434e+00,\n",
       "        1.43249434e+00,  1.44249434e+00,  1.45249434e+00,  1.46249434e+00,\n",
       "        1.47249434e+00,  1.48249434e+00,  1.49249434e+00,  1.50249434e+00,\n",
       "        1.51249434e+00,  1.52249434e+00,  1.53249434e+00,  1.54249434e+00,\n",
       "        1.55249434e+00,  1.56249434e+00,  1.57249434e+00,  1.58249434e+00,\n",
       "        1.59249434e+00,  1.60249434e+00,  1.61249434e+00,  1.62249434e+00,\n",
       "        1.63249434e+00,  1.64249434e+00,  1.65249434e+00,  1.66249434e+00,\n",
       "        1.67249434e+00,  1.68249434e+00,  1.69249434e+00,  1.70249434e+00,\n",
       "        1.71249434e+00,  1.72249434e+00,  1.73249434e+00,  1.74249434e+00,\n",
       "        1.75249434e+00,  1.76249434e+00,  1.77249434e+00,  1.78249434e+00,\n",
       "        1.79249434e+00,  1.80249434e+00,  1.81249434e+00,  1.82249434e+00,\n",
       "        1.83249434e+00,  1.84249434e+00,  1.85249434e+00,  1.86249434e+00,\n",
       "        1.87249434e+00,  1.88249434e+00,  1.89249434e+00,  1.90249434e+00,\n",
       "        1.91249434e+00,  1.92249434e+00,  1.93249434e+00,  1.94249434e+00,\n",
       "        1.95249434e+00,  1.96249434e+00,  1.97249434e+00,  1.98249434e+00,\n",
       "        1.99249434e+00,  2.00249434e+00,  2.01249434e+00,  2.02249434e+00,\n",
       "        2.03249434e+00,  2.04249434e+00,  2.05249434e+00,  2.06249434e+00,\n",
       "        2.07249434e+00,  2.08249434e+00,  2.09249434e+00,  2.10249434e+00,\n",
       "        2.11249434e+00,  2.12249434e+00,  2.13249434e+00,  2.14249434e+00,\n",
       "        2.15249434e+00,  2.16249434e+00,  2.17249434e+00,  2.18249434e+00,\n",
       "        2.19249434e+00,  2.20249434e+00,  2.21249434e+00,  2.22249434e+00,\n",
       "        2.23249434e+00,  2.24249434e+00,  2.25249434e+00,  2.26249434e+00,\n",
       "        2.27249434e+00,  2.28249434e+00,  2.29249434e+00,  2.30249434e+00,\n",
       "        2.31249434e+00,  2.32249434e+00,  2.33249434e+00,  2.34249434e+00,\n",
       "        2.35249434e+00,  2.36249434e+00,  2.37249434e+00,  2.38249434e+00,\n",
       "        2.39249434e+00,  2.40249434e+00,  2.41249434e+00,  2.42249434e+00,\n",
       "        2.43249434e+00,  2.44249434e+00,  2.45249434e+00,  2.46249434e+00,\n",
       "        2.47249434e+00,  2.48249434e+00,  2.49249434e+00,  2.50249434e+00,\n",
       "        2.51249434e+00,  2.52249434e+00,  2.53249434e+00,  2.54249434e+00,\n",
       "        2.55249434e+00,  2.56249434e+00,  2.57249434e+00,  2.58249434e+00,\n",
       "        2.59249434e+00,  2.60249434e+00,  2.61249434e+00,  2.62249434e+00,\n",
       "        2.63249434e+00,  2.64249434e+00,  2.65249434e+00,  2.66249434e+00,\n",
       "        2.67249434e+00,  2.68249434e+00,  2.69249434e+00,  2.70249434e+00,\n",
       "        2.71249434e+00,  2.72249434e+00,  2.73249434e+00,  2.74249434e+00,\n",
       "        2.75249434e+00,  2.76249434e+00,  2.77249434e+00,  2.78249434e+00,\n",
       "        2.79249434e+00,  2.80249434e+00,  2.81249434e+00,  2.82249434e+00,\n",
       "        2.83249434e+00,  2.84249434e+00,  2.85249434e+00,  2.86249434e+00,\n",
       "        2.87249434e+00,  2.88249434e+00,  2.89249434e+00,  2.90249434e+00,\n",
       "        2.91249434e+00,  2.92249434e+00,  2.93249434e+00,  2.94249434e+00,\n",
       "        2.95249434e+00,  2.96249434e+00,  2.97249434e+00,  2.98249434e+00,\n",
       "        2.99249434e+00,  3.00249434e+00,  3.01249434e+00,  3.02249434e+00,\n",
       "        3.03249434e+00,  3.04249434e+00,  3.05249434e+00,  3.06249434e+00,\n",
       "        3.07249434e+00,  3.08249434e+00,  3.09249434e+00,  3.10249434e+00,\n",
       "        3.11249434e+00,  3.12249434e+00,  3.13249434e+00,  3.14249434e+00,\n",
       "        3.15249434e+00,  3.16249434e+00,  3.17249434e+00,  3.18249434e+00,\n",
       "        3.19249434e+00,  3.20249434e+00,  3.21249434e+00,  3.22249434e+00,\n",
       "        3.23249434e+00,  3.24249434e+00,  3.25249434e+00,  3.26249434e+00,\n",
       "        3.27249434e+00,  3.28249434e+00,  3.29249434e+00,  3.30249434e+00,\n",
       "        3.31249434e+00,  3.32249434e+00,  3.33249434e+00,  3.34249434e+00,\n",
       "        3.35249434e+00])"
      ]
     },
     "execution_count": 14,
     "metadata": {},
     "output_type": "execute_result"
    }
   ],
   "source": [
    "b = np.arange(start=X_train[:,1].min() - 1, stop= X_train[:,1].max() + 1, step= 0.01)\n",
    "b"
   ]
  },
  {
   "cell_type": "code",
   "execution_count": 15,
   "metadata": {},
   "outputs": [
    {
     "data": {
      "text/plain": [
       "(597,)"
      ]
     },
     "execution_count": 15,
     "metadata": {},
     "output_type": "execute_result"
    }
   ],
   "source": [
    "b.shape"
   ]
  },
  {
   "cell_type": "code",
   "execution_count": 16,
   "metadata": {},
   "outputs": [
    {
     "name": "stdout",
     "output_type": "stream",
     "text": [
      "(597, 602)\n",
      "(597, 602)\n"
     ]
    }
   ],
   "source": [
    "XX, yy = np.meshgrid(a,b)\n",
    "print(XX.shape)\n",
    "print(yy.shape)"
   ]
  },
  {
   "cell_type": "markdown",
   "metadata": {},
   "source": [
    "### **Classifying every point on the meshgrid**"
   ]
  },
  {
   "cell_type": "code",
   "execution_count": 17,
   "metadata": {},
   "outputs": [
    {
     "name": "stdout",
     "output_type": "stream",
     "text": [
      "-2.877310557833164\n",
      "-2.6075056615492507\n"
     ]
    }
   ],
   "source": [
    "print(XX[0][0])\n",
    "print(yy[0][0])"
   ]
  },
  {
   "cell_type": "code",
   "execution_count": 19,
   "metadata": {},
   "outputs": [
    {
     "data": {
      "text/html": [
       "<style>#sk-container-id-1 {color: black;}#sk-container-id-1 pre{padding: 0;}#sk-container-id-1 div.sk-toggleable {background-color: white;}#sk-container-id-1 label.sk-toggleable__label {cursor: pointer;display: block;width: 100%;margin-bottom: 0;padding: 0.3em;box-sizing: border-box;text-align: center;}#sk-container-id-1 label.sk-toggleable__label-arrow:before {content: \"▸\";float: left;margin-right: 0.25em;color: #696969;}#sk-container-id-1 label.sk-toggleable__label-arrow:hover:before {color: black;}#sk-container-id-1 div.sk-estimator:hover label.sk-toggleable__label-arrow:before {color: black;}#sk-container-id-1 div.sk-toggleable__content {max-height: 0;max-width: 0;overflow: hidden;text-align: left;background-color: #f0f8ff;}#sk-container-id-1 div.sk-toggleable__content pre {margin: 0.2em;color: black;border-radius: 0.25em;background-color: #f0f8ff;}#sk-container-id-1 input.sk-toggleable__control:checked~div.sk-toggleable__content {max-height: 200px;max-width: 100%;overflow: auto;}#sk-container-id-1 input.sk-toggleable__control:checked~label.sk-toggleable__label-arrow:before {content: \"▾\";}#sk-container-id-1 div.sk-estimator input.sk-toggleable__control:checked~label.sk-toggleable__label {background-color: #d4ebff;}#sk-container-id-1 div.sk-label input.sk-toggleable__control:checked~label.sk-toggleable__label {background-color: #d4ebff;}#sk-container-id-1 input.sk-hidden--visually {border: 0;clip: rect(1px 1px 1px 1px);clip: rect(1px, 1px, 1px, 1px);height: 1px;margin: -1px;overflow: hidden;padding: 0;position: absolute;width: 1px;}#sk-container-id-1 div.sk-estimator {font-family: monospace;background-color: #f0f8ff;border: 1px dotted black;border-radius: 0.25em;box-sizing: border-box;margin-bottom: 0.5em;}#sk-container-id-1 div.sk-estimator:hover {background-color: #d4ebff;}#sk-container-id-1 div.sk-parallel-item::after {content: \"\";width: 100%;border-bottom: 1px solid gray;flex-grow: 1;}#sk-container-id-1 div.sk-label:hover label.sk-toggleable__label {background-color: #d4ebff;}#sk-container-id-1 div.sk-serial::before {content: \"\";position: absolute;border-left: 1px solid gray;box-sizing: border-box;top: 0;bottom: 0;left: 50%;z-index: 0;}#sk-container-id-1 div.sk-serial {display: flex;flex-direction: column;align-items: center;background-color: white;padding-right: 0.2em;padding-left: 0.2em;position: relative;}#sk-container-id-1 div.sk-item {position: relative;z-index: 1;}#sk-container-id-1 div.sk-parallel {display: flex;align-items: stretch;justify-content: center;background-color: white;position: relative;}#sk-container-id-1 div.sk-item::before, #sk-container-id-1 div.sk-parallel-item::before {content: \"\";position: absolute;border-left: 1px solid gray;box-sizing: border-box;top: 0;bottom: 0;left: 50%;z-index: -1;}#sk-container-id-1 div.sk-parallel-item {display: flex;flex-direction: column;z-index: 1;position: relative;background-color: white;}#sk-container-id-1 div.sk-parallel-item:first-child::after {align-self: flex-end;width: 50%;}#sk-container-id-1 div.sk-parallel-item:last-child::after {align-self: flex-start;width: 50%;}#sk-container-id-1 div.sk-parallel-item:only-child::after {width: 0;}#sk-container-id-1 div.sk-dashed-wrapped {border: 1px dashed gray;margin: 0 0.4em 0.5em 0.4em;box-sizing: border-box;padding-bottom: 0.4em;background-color: white;}#sk-container-id-1 div.sk-label label {font-family: monospace;font-weight: bold;display: inline-block;line-height: 1.2em;}#sk-container-id-1 div.sk-label-container {text-align: center;}#sk-container-id-1 div.sk-container {/* jupyter's `normalize.less` sets `[hidden] { display: none; }` but bootstrap.min.css set `[hidden] { display: none !important; }` so we also need the `!important` here to be able to override the default hidden behavior on the sphinx rendered scikit-learn.org. See: https://github.com/scikit-learn/scikit-learn/issues/21755 */display: inline-block !important;position: relative;}#sk-container-id-1 div.sk-text-repr-fallback {display: none;}</style><div id=\"sk-container-id-1\" class=\"sk-top-container\"><div class=\"sk-text-repr-fallback\"><pre>KNeighborsClassifier()</pre><b>In a Jupyter environment, please rerun this cell to show the HTML representation or trust the notebook. <br />On GitHub, the HTML representation is unable to render, please try loading this page with nbviewer.org.</b></div><div class=\"sk-container\" hidden><div class=\"sk-item\"><div class=\"sk-estimator sk-toggleable\"><input class=\"sk-toggleable__control sk-hidden--visually\" id=\"sk-estimator-id-1\" type=\"checkbox\" checked><label for=\"sk-estimator-id-1\" class=\"sk-toggleable__label sk-toggleable__label-arrow\">KNeighborsClassifier</label><div class=\"sk-toggleable__content\"><pre>KNeighborsClassifier()</pre></div></div></div></div></div>"
      ],
      "text/plain": [
       "KNeighborsClassifier()"
      ]
     },
     "execution_count": 19,
     "metadata": {},
     "output_type": "execute_result"
    }
   ],
   "source": [
    "knn = KNeighborsClassifier(n_neighbors=5)\n",
    "knn.fit(X_train, y_train)"
   ]
  },
  {
   "cell_type": "code",
   "execution_count": 20,
   "metadata": {},
   "outputs": [
    {
     "data": {
      "text/plain": [
       "array([0], dtype=int64)"
      ]
     },
     "execution_count": 20,
     "metadata": {},
     "output_type": "execute_result"
    }
   ],
   "source": [
    "knn.predict(np.array([-2.877310557833164, -2.6075056615492507]).reshape(1,2))"
   ]
  },
  {
   "cell_type": "code",
   "execution_count": 28,
   "metadata": {},
   "outputs": [
    {
     "data": {
      "text/plain": [
       "array([[-2.87731056, -2.86731056, -2.85731056, ...,  3.11268944,\n",
       "         3.12268944,  3.13268944],\n",
       "       [-2.60750566, -2.60750566, -2.60750566, ...,  3.35249434,\n",
       "         3.35249434,  3.35249434]])"
      ]
     },
     "execution_count": 28,
     "metadata": {},
     "output_type": "execute_result"
    }
   ],
   "source": [
    "np.array([XX.ravel(), yy.ravel()])\n",
    "# ravel transform higher dimesion array to 1D array"
   ]
  },
  {
   "cell_type": "code",
   "execution_count": 26,
   "metadata": {},
   "outputs": [
    {
     "name": "stdout",
     "output_type": "stream",
     "text": [
      "(2, 359394)\n"
     ]
    }
   ],
   "source": [
    "# shape\n",
    "print(np.array([XX.ravel(), yy.ravel()]).shape)"
   ]
  },
  {
   "cell_type": "code",
   "execution_count": 41,
   "metadata": {},
   "outputs": [
    {
     "name": "stdout",
     "output_type": "stream",
     "text": [
      "[[-2.87731056 -2.60750566]\n",
      " [-2.86731056 -2.60750566]\n",
      " [-2.85731056 -2.60750566]\n",
      " ...\n",
      " [ 3.11268944  3.35249434]\n",
      " [ 3.12268944  3.35249434]\n",
      " [ 3.13268944  3.35249434]]\n"
     ]
    },
    {
     "data": {
      "text/plain": [
       "(359394, 2)"
      ]
     },
     "execution_count": 41,
     "metadata": {},
     "output_type": "execute_result"
    }
   ],
   "source": [
    "# Transpose the dimension because 2 row x 359394 col but in data we have 2 col so use T\n",
    "print(np.array([XX.ravel(), yy.ravel()]).T)\n",
    "np.array([XX.ravel(), yy.ravel()]).T.shape\n"
   ]
  },
  {
   "cell_type": "code",
   "execution_count": 39,
   "metadata": {},
   "outputs": [],
   "source": [
    "input_array = np.array([XX.ravel(), yy.ravel()]).T"
   ]
  },
  {
   "cell_type": "code",
   "execution_count": 42,
   "metadata": {},
   "outputs": [
    {
     "data": {
      "text/plain": [
       "(359394, 2)"
      ]
     },
     "execution_count": 42,
     "metadata": {},
     "output_type": "execute_result"
    }
   ],
   "source": [
    "input_array.shape"
   ]
  },
  {
   "cell_type": "code",
   "execution_count": 44,
   "metadata": {},
   "outputs": [],
   "source": [
    "label = knn.predict(input_array)"
   ]
  },
  {
   "cell_type": "code",
   "execution_count": 45,
   "metadata": {},
   "outputs": [
    {
     "data": {
      "text/plain": [
       "(359394,)"
      ]
     },
     "execution_count": 45,
     "metadata": {},
     "output_type": "execute_result"
    }
   ],
   "source": [
    "label.shape"
   ]
  },
  {
   "cell_type": "markdown",
   "metadata": {},
   "source": [
    "### **Plotting the array as an image**"
   ]
  },
  {
   "cell_type": "code",
   "execution_count": 46,
   "metadata": {},
   "outputs": [
    {
     "data": {
      "text/plain": [
       "<matplotlib.contour.QuadContourSet at 0x1b9df710210>"
      ]
     },
     "execution_count": 46,
     "metadata": {},
     "output_type": "execute_result"
    },
    {
     "data": {
      "image/png": "[encoded data removed]",
      "text/plain": [
       "<Figure size 640x480 with 1 Axes>"
      ]
     },
     "metadata": {},
     "output_type": "display_data"
    }
   ],
   "source": [
    "plt.contourf(XX, yy, label.reshape(XX.shape))"
   ]
  },
  {
   "cell_type": "markdown",
   "metadata": {},
   "source": [
    "### **Plotting all the training data on the plot**"
   ]
  },
  {
   "cell_type": "code",
   "execution_count": 53,
   "metadata": {},
   "outputs": [
    {
     "data": {
      "text/plain": [
       "<matplotlib.collections.PathCollection at 0x1b9e44d0a50>"
      ]
     },
     "execution_count": 53,
     "metadata": {},
     "output_type": "execute_result"
    },
    {
     "data": {
      "image/png": "[encoded data removed]",
      "text/plain": [
       "<Figure size 640x480 with 1 Axes>"
      ]
     },
     "metadata": {},
     "output_type": "display_data"
    }
   ],
   "source": [
    "plt.style.use('fivethirtyeight')\n",
    "# plt.style.use('ggplot')\n",
    "plt.contourf(XX, yy, label.reshape(XX.shape), alpha = 0.3)\n",
    "plt.scatter(X_train[:,0], X_train[:,1], c= y_train)"
   ]
  },
  {
   "cell_type": "markdown",
   "metadata": {},
   "source": [
    "### **Example of ravel**"
   ]
  },
  {
   "cell_type": "code",
   "execution_count": 21,
   "metadata": {},
   "outputs": [
    {
     "data": {
      "text/plain": [
       "array([[1, 2, 3],\n",
       "       [4, 5, 6]])"
      ]
     },
     "execution_count": 21,
     "metadata": {},
     "output_type": "execute_result"
    }
   ],
   "source": [
    "# example of ravel\n",
    "m = np.array([[1,2,3], [4,5,6]])\n",
    "n = np.array([[7,8,9],[0,0,0]])\n",
    "m"
   ]
  },
  {
   "cell_type": "code",
   "execution_count": 24,
   "metadata": {},
   "outputs": [
    {
     "name": "stdout",
     "output_type": "stream",
     "text": [
      "(2, 6)\n"
     ]
    },
    {
     "data": {
      "text/plain": [
       "array([[1, 2, 3, 4, 5, 6],\n",
       "       [7, 8, 9, 0, 0, 0]])"
      ]
     },
     "execution_count": 24,
     "metadata": {},
     "output_type": "execute_result"
    }
   ],
   "source": [
    "print(np.array([m.ravel(), n.ravel()]).shape)\n",
    "np.array([m.ravel(), n.ravel()])"
   ]
  }
 ],
 "metadata": {
  "kernelspec": {
   "display_name": "Python 3",
   "language": "python",
   "name": "python3"
  },
  "language_info": {
   "codemirror_mode": {
    "name": "ipython",
    "version": 3
   },
   "file_extension": ".py",
   "mimetype": "text/x-python",
   "name": "python",
   "nbconvert_exporter": "python",
   "pygments_lexer": "ipython3",
   "version": "3.11.5"
  }
 },
 "nbformat": 4,
 "nbformat_minor": 2
}
