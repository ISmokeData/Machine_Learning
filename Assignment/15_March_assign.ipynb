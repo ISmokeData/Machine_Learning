{
 "cells": [
  {
   "attachments": {},
   "cell_type": "markdown",
   "metadata": {},
   "source": [
    "Q1- Explain the following with an example:\n",
    "1. Artificial Intelligence \n",
    "2. Machine learning\n",
    "3. Deep learning\n",
    "\n",
    "Ans- Artificial Intelligence : Artificial intelligence is the simulation of human intelligence processes by machines, especially computer systems. Specific applications of AI include expert systems, natural language processing, speech recognition and machine vision.\n",
    "\n",
    "Machine Learning : Machine learning is a modern innovation that has enhanced many industrial and professional processes as well as our daily lives. It's a subset of artificial intelligence (AI), which focuses on using statistical techniques to build intelligent computer systems to learn from available databases.\n",
    "\n",
    "Deep Learning : Deep learning is a machine learning technique that teaches computers to do what comes naturally to humans: learn by example. Deep learning is a key technology behind driverless cars, enabling them to recognize a stop sign, or to distinguish a pedestrian from a lamppost."
   ]
  },
  {
   "attachments": {},
   "cell_type": "markdown",
   "metadata": {},
   "source": [
    "Q2.  What is supervised learning? List some example of supervised learning.\n",
    "\n",
    "Ans- Supervised Learning : Supervised machine learning uses training data sets to achieve desired results. These data sets contain inputs and the correct output that helps the model to learn faster. For example, you want to train a machine to help you predict how long it will take you to drive home from your workplace"
   ]
  },
  {
   "attachments": {},
   "cell_type": "markdown",
   "metadata": {},
   "source": [
    "Q3. What is unsupervised learning? List some example of unsupervising learning.\n",
    "\n",
    "Ans- Unsupervised learning is when it can provide a set of unlabelled data, which it is required to analyze and find patterns inside. The examples are dimension reduction and clustering."
   ]
  },
  {
   "attachments": {},
   "cell_type": "markdown",
   "metadata": {},
   "source": [
    "Q4. What is the difference between AI, ML and DS?\n",
    "\n",
    "Ans- Artificial Intelligence is the concept of creating smart intelligent machines. Machine Learning is a subset of artificial intelligence that helps you build AI-driven applications. Deep Learning is a subset of machine learning that uses vast volumes of data and complex algorithms to train a model."
   ]
  },
  {
   "attachments": {},
   "cell_type": "markdown",
   "metadata": {},
   "source": [
    "Q5. What are the main difference between supervised, unsupervised and semi-supervised learning?\n",
    "\n",
    "Ans - Supervised Data : Supervised machine learning uses training data sets to achieve desired results. These data sets contain inputs and the correct output that helps the model to learn faster.\n",
    "\n",
    "Unsupervised Data: Unsupervised learning is when it can provide a set of unlabelled data, which it is required to analyze and find patterns inside.\n",
    "\n",
    "Semi-supervised data: combination of supervised and unsupervised data"
   ]
  },
  {
   "attachments": {},
   "cell_type": "markdown",
   "metadata": {},
   "source": [
    "Q6. What is train, test, validation split? Explain the importance of each term.\n",
    "\n",
    "Ans- Train: We will our models example :book\n",
    "\n",
    "test : Model will be test example : Exam\n",
    "\n",
    "validation : Hyper tunning of the Model exam : different book"
   ]
  },
  {
   "attachments": {},
   "cell_type": "markdown",
   "metadata": {},
   "source": [
    "Q7. How can unsupervised learning be used in anomaly detection?\n",
    "\n",
    "Ans- Unsupervised is useful when the data is unlabeled and thus requires less work to process the data set before- hand. Anomaly detection techniques of unsupervised nature assume that normal data points occur considerably more frequently than anomalous data points."
   ]
  },
  {
   "attachments": {},
   "cell_type": "markdown",
   "metadata": {},
   "source": [
    "Q8. List down some commonly used supervised learning algorithm and unsupervised learning algorithms.\n",
    "\n",
    "Ans- The most commonly used Supervised Learning algorithms are decision tree, logistic regression, linear regression, support vector machine. The most commonly used Unsupervised Learning algorithms are k-means clustering, hierarchical clustering, and apriori algorithm."
   ]
  },
  {
   "cell_type": "markdown",
   "metadata": {},
   "source": []
  }
 ],
 "metadata": {
  "language_info": {
   "name": "python"
  },
  "orig_nbformat": 4
 },
 "nbformat": 4,
 "nbformat_minor": 2
}
